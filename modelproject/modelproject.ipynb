{
 "cells": [
  {
   "cell_type": "markdown",
   "metadata": {},
   "source": [
    "# The Cournot model"
   ]
  },
  {
   "cell_type": "markdown",
   "metadata": {},
   "source": [
    "> **Note the following:** \n",
    "> 1. This is *not* meant to be an example of an actual **model analysis project**, just an example of how to structure such a project.\n",
    "> 1. Remember the general advice on structuring and commenting your code from [lecture 5](https://numeconcopenhagen.netlify.com/lectures/Workflow_and_debugging).\n",
    "> 1. Remember this [guide](https://www.markdownguide.org/basic-syntax/) on markdown and (a bit of) latex.\n",
    "> 1. Turn on automatic numbering by clicking on the small icon on top of the table of contents in the left sidebar.\n",
    "> 1. The `modelproject.py` file includes a function which could be used multiple times in this notebook."
   ]
  },
  {
   "cell_type": "markdown",
   "metadata": {},
   "source": [
    "In this model project, we consider the Cournot model, known from microeconomics. It is a model of industrial organization. In the model are two frims that compete on quantities. We start off by considering a symmetric game, where the firms have identical cost functions. The game is solved using backwards induction, which means that we start of by maximizing the profit of the market follower, defined as firm 2, whereafter we maximize the profit of firm 1.\n",
    "\n",
    "The project first solve the model analytically, whereafter the model is solved using a numerical model"
   ]
  },
  {
   "cell_type": "markdown",
   "metadata": {},
   "source": [
    "Imports and set magics:"
   ]
  },
  {
   "cell_type": "code",
   "execution_count": 92,
   "metadata": {},
   "outputs": [
    {
     "output_type": "stream",
     "name": "stdout",
     "text": "The autoreload extension is already loaded. To reload it, use:\n  %reload_ext autoreload\n"
    }
   ],
   "source": [
    "import numpy as np\n",
    "from scipy import optimize\n",
    "import sympy as sm\n",
    "import pandas as pd\n",
    "import matplotlib.pyplot as plt\n",
    "\n",
    "# autoreload modules when code is run\n",
    "%load_ext autoreload\n",
    "%autoreload 2\n",
    "\n",
    "# local modules\n",
    "import modelproject"
   ]
  },
  {
   "cell_type": "markdown",
   "metadata": {},
   "source": [
    "Defining symbols that are used during the project."
   ]
  },
  {
   "cell_type": "code",
   "execution_count": 107,
   "metadata": {},
   "outputs": [],
   "source": [
    "q1 = sm.symbols('q_1') # The quantities of firm 1 \n",
    "q2 = sm.symbols('q_2') # The quantities of firm 2\n",
    "P = sm.symbols('P') # The price that the firms charge for their products\n",
    "a = sm.symbols('a') # A part of the inverse demand function\n",
    "c1 = sm.symbols('c_1') # The production cost of firm 1 \n",
    "c2 = sm.symbols('c_2') # The production cost of firm 2\n",
    "optq2 = sm.symbols('q_2^*') # The optimal quantity of firm 1 \n",
    "optq1 = sm.symbols('q_1^*') # The optimal quantity of firm 2 "
   ]
  },
  {
   "cell_type": "markdown",
   "metadata": {},
   "source": [
    "For later use, we start of by defining the price function, also known as the inverse demand function."
   ]
  },
  {
   "cell_type": "code",
   "execution_count": 108,
   "metadata": {},
   "outputs": [],
   "source": [
    "def price(a, q1,q2): \n",
    "    return a-q1 -q2"
   ]
  },
  {
   "cell_type": "code",
   "execution_count": 109,
   "metadata": {},
   "outputs": [
    {
     "output_type": "execute_result",
     "data": {
      "text/plain": "a - q_1 - q_2",
      "text/latex": "$\\displaystyle a - q_{1} - q_{2}$"
     },
     "metadata": {},
     "execution_count": 109
    }
   ],
   "source": [
    "price(a, q1,q2)"
   ]
  },
  {
   "cell_type": "markdown",
   "metadata": {},
   "source": [
    "Now we define the two profit functions, notice that in the profits depend on the amount the other firm produces, further it can be seen that the profit functions are identical. "
   ]
  },
  {
   "cell_type": "code",
   "execution_count": 110,
   "metadata": {},
   "outputs": [],
   "source": [
    "def profit1(q1):\n",
    "    return (a-q1-q2) * q1 - c1 * q1 \n",
    "\n",
    "def profit2(q2):\n",
    "    return (a-q1-q2) * q2 - c2 * q2"
   ]
  },
  {
   "cell_type": "code",
   "execution_count": 111,
   "metadata": {},
   "outputs": [
    {
     "output_type": "execute_result",
     "data": {
      "text/plain": "-c_2*q_2 + q_2*(a - q_1 - q_2)",
      "text/latex": "$\\displaystyle - c_{2} q_{2} + q_{2} \\left(a - q_{1} - q_{2}\\right)$"
     },
     "metadata": {},
     "execution_count": 111
    }
   ],
   "source": [
    "profit2(q2)"
   ]
  },
  {
   "cell_type": "code",
   "execution_count": 112,
   "metadata": {},
   "outputs": [
    {
     "output_type": "execute_result",
     "data": {
      "text/plain": "-c_1*q_1 + q_1*(a - q_1 - q_2)",
      "text/latex": "$\\displaystyle - c_{1} q_{1} + q_{1} \\left(a - q_{1} - q_{2}\\right)$"
     },
     "metadata": {},
     "execution_count": 112
    }
   ],
   "source": [
    "profit1(q1)"
   ]
  },
  {
   "cell_type": "markdown",
   "metadata": {},
   "source": [
    "We start off considering the second firm , and maximize the profit of firm 2 with respect to the quantity of firm 2."
   ]
  },
  {
   "cell_type": "code",
   "execution_count": 113,
   "metadata": {},
   "outputs": [
    {
     "output_type": "execute_result",
     "data": {
      "text/plain": "a - c_2 - q_1 - 2*q_2",
      "text/latex": "$\\displaystyle a - c_{2} - q_{1} - 2 q_{2}$"
     },
     "metadata": {},
     "execution_count": 113
    }
   ],
   "source": [
    "maxprofit2 = sm.diff(profit2(q2), q2)\n",
    "maxprofit2"
   ]
  },
  {
   "cell_type": "markdown",
   "metadata": {},
   "source": [
    "And then we solve for q2, as we then have the best response for firm 2 to the quantity that firm 1 produces."
   ]
  },
  {
   "cell_type": "code",
   "execution_count": 114,
   "metadata": {},
   "outputs": [
    {
     "output_type": "execute_result",
     "data": {
      "text/plain": "a/2 - c_2/2 - q_1/2",
      "text/latex": "$\\displaystyle \\frac{a}{2} - \\frac{c_{2}}{2} - \\frac{q_{1}}{2}$"
     },
     "metadata": {},
     "execution_count": 114
    }
   ],
   "source": [
    "optq2 = sm.solve(maxprofit2,q2)\n",
    "optq2[0]"
   ]
  },
  {
   "cell_type": "code",
   "execution_count": 115,
   "metadata": {},
   "outputs": [],
   "source": [
    "brq2 = a/2 -c2/2 + q1/2"
   ]
  },
  {
   "cell_type": "markdown",
   "metadata": {},
   "source": [
    "We will now do the same for the for firm 1. "
   ]
  },
  {
   "cell_type": "code",
   "execution_count": 116,
   "metadata": {},
   "outputs": [
    {
     "output_type": "execute_result",
     "data": {
      "text/plain": "a - c_1 - 2*q_1 - q_2",
      "text/latex": "$\\displaystyle a - c_{1} - 2 q_{1} - q_{2}$"
     },
     "metadata": {},
     "execution_count": 116
    }
   ],
   "source": [
    "sm.diff( q1*(a-(q2)-q1)-c1*q1 ,q1)"
   ]
  },
  {
   "cell_type": "markdown",
   "metadata": {},
   "source": [
    "We now solve for the quantity of firm 1, where it can be seen that there are symmetry between the two firms. "
   ]
  },
  {
   "cell_type": "code",
   "execution_count": 117,
   "metadata": {},
   "outputs": [
    {
     "output_type": "execute_result",
     "data": {
      "text/plain": "a/2 - c_1/2 - q_2/2",
      "text/latex": "$\\displaystyle \\frac{a}{2} - \\frac{c_{1}}{2} - \\frac{q_{2}}{2}$"
     },
     "metadata": {},
     "execution_count": 117
    }
   ],
   "source": [
    "solve = sm.solve(a-c1-2*q1-q2,q1)\n",
    "solve[0]"
   ]
  },
  {
   "cell_type": "markdown",
   "metadata": {},
   "source": [
    "We now insert the quantity of firm 1 into the best response of firm 2, and solve for q2, which gives the optimal amount of q2."
   ]
  },
  {
   "cell_type": "code",
   "execution_count": 122,
   "metadata": {},
   "outputs": [
    {
     "output_type": "execute_result",
     "data": {
      "text/plain": "a/3 + c_1/3 - 2*c_2/3",
      "text/latex": "$\\displaystyle \\frac{a}{3} + \\frac{c_{1}}{3} - \\frac{2 c_{2}}{3}$"
     },
     "metadata": {},
     "execution_count": 122
    }
   ],
   "source": [
    "solve2 = sm.solve(a/2 - c2/2 - (a/2 - c1/2 - q2/2)/2-q2,q2)\n",
    "solve2[0]"
   ]
  },
  {
   "cell_type": "markdown",
   "metadata": {},
   "source": [
    "As we know that the two firms are symmetric, we now know the optimal quantity of firm 1 is similar to the optimal quantity of firm 2. "
   ]
  },
  {
   "cell_type": "code",
   "execution_count": 64,
   "metadata": {},
   "outputs": [],
   "source": [
    "q2 = a/3 - 2*c1/3 +c2/3"
   ]
  },
  {
   "cell_type": "code",
   "execution_count": 65,
   "metadata": {},
   "outputs": [],
   "source": [
    "q1 = a/3 - 2*c2/3 +c1/3"
   ]
  },
  {
   "cell_type": "markdown",
   "metadata": {},
   "source": [
    "Thus we have now fonund the optimal quantities of each firm. "
   ]
  },
  {
   "cell_type": "markdown",
   "metadata": {},
   "source": [
    "We can now compare the profits of the two firms. In order to do this, we define some values for a and the marginal cost of each firm."
   ]
  },
  {
   "cell_type": "code",
   "execution_count": 66,
   "metadata": {},
   "outputs": [],
   "source": [
    "a=100\n",
    "c1=10\n",
    "c2=10"
   ]
  },
  {
   "cell_type": "markdown",
   "metadata": {},
   "source": [
    "We now define the quantities that each firm produce, given the defined values above."
   ]
  },
  {
   "cell_type": "code",
   "execution_count": 67,
   "metadata": {},
   "outputs": [],
   "source": [
    "q1 = 100/3 +10/3 - (2*10)/3"
   ]
  },
  {
   "cell_type": "code",
   "execution_count": 68,
   "metadata": {},
   "outputs": [],
   "source": [
    "q2 = 100/3 +10/3 - (2*10)/3"
   ]
  },
  {
   "cell_type": "markdown",
   "metadata": {},
   "source": [
    "Given the quantities, we can now see what the price is, how much each firm will produce and the profit of each firm."
   ]
  },
  {
   "cell_type": "code",
   "execution_count": 69,
   "metadata": {},
   "outputs": [
    {
     "output_type": "stream",
     "name": "stdout",
     "text": "The market price is 40.0\nThe profit of firm 1 is 900.0\nThe quantitiy of firm 1 is 30.0\nThe profit of firm 2 is 900.0\nThe quantitiy of firm 2 is 30.0\n"
    }
   ],
   "source": [
    "print(f'The market price is {round(price(a,q1,q2),1)}')\n",
    "print(f'The profit of firm 1 is {round(profit1(q1),1)}')\n",
    "print(f'The quantitiy of firm 1 is {round(q1,1)}')\n",
    "print(f'The profit of firm 2 is {round(profit2(q2),1)}')\n",
    "print(f'The quantitiy of firm 2 is {round(q2,1)}')"
   ]
  },
  {
   "cell_type": "markdown",
   "metadata": {},
   "source": [
    "## Numerical solution"
   ]
  },
  {
   "cell_type": "markdown",
   "metadata": {},
   "source": [
    "In this section we solve the cournot model by using a numerical model. "
   ]
  },
  {
   "cell_type": "code",
   "execution_count": 70,
   "metadata": {},
   "outputs": [],
   "source": [
    "N = 999 # Number of exogenous drawn quantities for firm 2\n",
    "q2_vector = np.linspace(0,90,N) # Quantities actually getting drawn, thus we draw between quantities for q2 between 0 and 90, and draw 999 values between 0 and 90."
   ]
  },
  {
   "cell_type": "code",
   "execution_count": 71,
   "metadata": {},
   "outputs": [],
   "source": [
    "# defining empty vectors\n",
    "q2_try= [] \n",
    "q1_BR = []\n",
    "pi1_BR = [] \n",
    "\n",
    "for i in q2_vector:\n",
    "    q2 = i # sets the value of q2 equal to i\n",
    "    q1_guess = 0 # Initial guess for q1      \n",
    "    objective_function = lambda q1: -profit1(q1) # We want to maximize the profit of firm 1, and have \"-\", as the function minimizes, we find the profits of firm 1 given the values of firm 2, and find the optimal quantity of q1\n",
    "    res = optimize.minimize(objective_function, q1_guess, method='BFGS')\n",
    "    q2_try.append(i) # Append the value of q2\n",
    "    q1_BR.append(res.x[0]) # Append the best respone quantity"
   ]
  },
  {
   "cell_type": "code",
   "execution_count": 72,
   "metadata": {},
   "outputs": [
    {
     "output_type": "execute_result",
     "data": {
      "text/plain": "       q2    q1  Price  Profit_1  Profit_2\n0     0.0  45.0   55.0    2025.0       0.0\n1     0.1  45.0   55.0    2020.9       4.1\n2     0.2  44.9   54.9    2016.9       8.1\n3     0.3  44.9   54.9    2012.8      12.1\n4     0.4  44.8   54.8    2008.8      16.2\n..    ...   ...    ...       ...       ...\n994  89.6   0.2   10.2       0.0      16.2\n995  89.7   0.1   10.1       0.0      12.1\n996  89.8   0.1   10.1       0.0       8.1\n997  89.9   0.0   10.0       0.0       4.1\n998  90.0   0.0   10.0       0.0       0.0\n\n[999 rows x 5 columns]",
      "text/html": "<div>\n<style scoped>\n    .dataframe tbody tr th:only-of-type {\n        vertical-align: middle;\n    }\n\n    .dataframe tbody tr th {\n        vertical-align: top;\n    }\n\n    .dataframe thead th {\n        text-align: right;\n    }\n</style>\n<table border=\"1\" class=\"dataframe\">\n  <thead>\n    <tr style=\"text-align: right;\">\n      <th></th>\n      <th>q2</th>\n      <th>q1</th>\n      <th>Price</th>\n      <th>Profit_1</th>\n      <th>Profit_2</th>\n    </tr>\n  </thead>\n  <tbody>\n    <tr>\n      <td>0</td>\n      <td>0.0</td>\n      <td>45.0</td>\n      <td>55.0</td>\n      <td>2025.0</td>\n      <td>0.0</td>\n    </tr>\n    <tr>\n      <td>1</td>\n      <td>0.1</td>\n      <td>45.0</td>\n      <td>55.0</td>\n      <td>2020.9</td>\n      <td>4.1</td>\n    </tr>\n    <tr>\n      <td>2</td>\n      <td>0.2</td>\n      <td>44.9</td>\n      <td>54.9</td>\n      <td>2016.9</td>\n      <td>8.1</td>\n    </tr>\n    <tr>\n      <td>3</td>\n      <td>0.3</td>\n      <td>44.9</td>\n      <td>54.9</td>\n      <td>2012.8</td>\n      <td>12.1</td>\n    </tr>\n    <tr>\n      <td>4</td>\n      <td>0.4</td>\n      <td>44.8</td>\n      <td>54.8</td>\n      <td>2008.8</td>\n      <td>16.2</td>\n    </tr>\n    <tr>\n      <td>...</td>\n      <td>...</td>\n      <td>...</td>\n      <td>...</td>\n      <td>...</td>\n      <td>...</td>\n    </tr>\n    <tr>\n      <td>994</td>\n      <td>89.6</td>\n      <td>0.2</td>\n      <td>10.2</td>\n      <td>0.0</td>\n      <td>16.2</td>\n    </tr>\n    <tr>\n      <td>995</td>\n      <td>89.7</td>\n      <td>0.1</td>\n      <td>10.1</td>\n      <td>0.0</td>\n      <td>12.1</td>\n    </tr>\n    <tr>\n      <td>996</td>\n      <td>89.8</td>\n      <td>0.1</td>\n      <td>10.1</td>\n      <td>0.0</td>\n      <td>8.1</td>\n    </tr>\n    <tr>\n      <td>997</td>\n      <td>89.9</td>\n      <td>0.0</td>\n      <td>10.0</td>\n      <td>0.0</td>\n      <td>4.1</td>\n    </tr>\n    <tr>\n      <td>998</td>\n      <td>90.0</td>\n      <td>0.0</td>\n      <td>10.0</td>\n      <td>0.0</td>\n      <td>0.0</td>\n    </tr>\n  </tbody>\n</table>\n<p>999 rows × 5 columns</p>\n</div>"
     },
     "metadata": {},
     "execution_count": 72
    }
   ],
   "source": [
    "df=pd.DataFrame(q2_try) \n",
    "df.columns=['q2'] \n",
    "df['q1'] = q1_BR \n",
    "df['Price'] = a - df['q1'] - df['q2'] # Calculate the price given the quantities of firm 1 and firm 2\n",
    "df['Profit_1'] = np.transpose(df['Price'] * df['q1']) - c2 * df['q1'] # Calculate the profit of firm 1\n",
    "df['Profit_2'] = np.transpose(df['Price'] * df['q2']) - c2 * df['q2'] # Calculate the profit of firm 2\n",
    "\n",
    "df = df.round(1)\n",
    "df.head(1000)"
   ]
  },
  {
   "cell_type": "code",
   "execution_count": 73,
   "metadata": {},
   "outputs": [],
   "source": [
    "q1_exo=df['q2'].copy() # Copying exogenous drawn quantities from firm 1 to firm 2\n",
    "q2_BR=df['q1'].copy() # Copying best response from firm 2 to firm 1"
   ]
  },
  {
   "cell_type": "code",
   "execution_count": 77,
   "metadata": {},
   "outputs": [
    {
     "output_type": "display_data",
     "data": {
      "text/plain": "<Figure size 432x288 with 1 Axes>",
      "image/svg+xml": "<?xml version=\"1.0\" encoding=\"utf-8\" standalone=\"no\"?>\n<!DOCTYPE svg PUBLIC \"-//W3C//DTD SVG 1.1//EN\"\n  \"http://www.w3.org/Graphics/SVG/1.1/DTD/svg11.dtd\">\n<!-- Created with matplotlib (http://matplotlib.org/) -->\n<svg height=\"277.314375pt\" version=\"1.1\" viewBox=\"0 0 386.103125 277.314375\" width=\"386.103125pt\" xmlns=\"http://www.w3.org/2000/svg\" xmlns:xlink=\"http://www.w3.org/1999/xlink\">\n <defs>\n  <style type=\"text/css\">\n*{stroke-linecap:butt;stroke-linejoin:round;}\n  </style>\n </defs>\n <g id=\"figure_1\">\n  <g id=\"patch_1\">\n   <path d=\"M 0 277.314375 \nL 386.103125 277.314375 \nL 386.103125 0 \nL 0 0 \nz\n\" style=\"fill:none;\"/>\n  </g>\n  <g id=\"axes_1\">\n   <g id=\"patch_2\">\n    <path d=\"M 40.603125 239.758125 \nL 375.403125 239.758125 \nL 375.403125 22.318125 \nL 40.603125 22.318125 \nz\n\" style=\"fill:#ffffff;\"/>\n   </g>\n   <g id=\"matplotlib.axis_1\">\n    <g id=\"xtick_1\">\n     <g id=\"line2d_1\">\n      <defs>\n       <path d=\"M 0 0 \nL 0 3.5 \n\" id=\"m1ce37d2f7b\" style=\"stroke:#000000;stroke-width:0.8;\"/>\n      </defs>\n      <g>\n       <use style=\"stroke:#000000;stroke-width:0.8;\" x=\"55.821307\" xlink:href=\"#m1ce37d2f7b\" y=\"239.758125\"/>\n      </g>\n     </g>\n     <g id=\"text_1\">\n      <!-- 0 -->\n      <defs>\n       <path d=\"M 31.78125 66.40625 \nQ 24.171875 66.40625 20.328125 58.90625 \nQ 16.5 51.421875 16.5 36.375 \nQ 16.5 21.390625 20.328125 13.890625 \nQ 24.171875 6.390625 31.78125 6.390625 \nQ 39.453125 6.390625 43.28125 13.890625 \nQ 47.125 21.390625 47.125 36.375 \nQ 47.125 51.421875 43.28125 58.90625 \nQ 39.453125 66.40625 31.78125 66.40625 \nz\nM 31.78125 74.21875 \nQ 44.046875 74.21875 50.515625 64.515625 \nQ 56.984375 54.828125 56.984375 36.375 \nQ 56.984375 17.96875 50.515625 8.265625 \nQ 44.046875 -1.421875 31.78125 -1.421875 \nQ 19.53125 -1.421875 13.0625 8.265625 \nQ 6.59375 17.96875 6.59375 36.375 \nQ 6.59375 54.828125 13.0625 64.515625 \nQ 19.53125 74.21875 31.78125 74.21875 \nz\n\" id=\"DejaVuSans-30\"/>\n      </defs>\n      <g transform=\"translate(52.640057 254.356562)scale(0.1 -0.1)\">\n       <use xlink:href=\"#DejaVuSans-30\"/>\n      </g>\n     </g>\n    </g>\n    <g id=\"xtick_2\">\n     <g id=\"line2d_2\">\n      <g>\n       <use style=\"stroke:#000000;stroke-width:0.8;\" x=\"123.45767\" xlink:href=\"#m1ce37d2f7b\" y=\"239.758125\"/>\n      </g>\n     </g>\n     <g id=\"text_2\">\n      <!-- 20 -->\n      <defs>\n       <path d=\"M 19.1875 8.296875 \nL 53.609375 8.296875 \nL 53.609375 0 \nL 7.328125 0 \nL 7.328125 8.296875 \nQ 12.9375 14.109375 22.625 23.890625 \nQ 32.328125 33.6875 34.8125 36.53125 \nQ 39.546875 41.84375 41.421875 45.53125 \nQ 43.3125 49.21875 43.3125 52.78125 \nQ 43.3125 58.59375 39.234375 62.25 \nQ 35.15625 65.921875 28.609375 65.921875 \nQ 23.96875 65.921875 18.8125 64.3125 \nQ 13.671875 62.703125 7.8125 59.421875 \nL 7.8125 69.390625 \nQ 13.765625 71.78125 18.9375 73 \nQ 24.125 74.21875 28.421875 74.21875 \nQ 39.75 74.21875 46.484375 68.546875 \nQ 53.21875 62.890625 53.21875 53.421875 \nQ 53.21875 48.921875 51.53125 44.890625 \nQ 49.859375 40.875 45.40625 35.40625 \nQ 44.1875 33.984375 37.640625 27.21875 \nQ 31.109375 20.453125 19.1875 8.296875 \nz\n\" id=\"DejaVuSans-32\"/>\n      </defs>\n      <g transform=\"translate(117.09517 254.356562)scale(0.1 -0.1)\">\n       <use xlink:href=\"#DejaVuSans-32\"/>\n       <use x=\"63.623047\" xlink:href=\"#DejaVuSans-30\"/>\n      </g>\n     </g>\n    </g>\n    <g id=\"xtick_3\">\n     <g id=\"line2d_3\">\n      <g>\n       <use style=\"stroke:#000000;stroke-width:0.8;\" x=\"191.094034\" xlink:href=\"#m1ce37d2f7b\" y=\"239.758125\"/>\n      </g>\n     </g>\n     <g id=\"text_3\">\n      <!-- 40 -->\n      <defs>\n       <path d=\"M 37.796875 64.3125 \nL 12.890625 25.390625 \nL 37.796875 25.390625 \nz\nM 35.203125 72.90625 \nL 47.609375 72.90625 \nL 47.609375 25.390625 \nL 58.015625 25.390625 \nL 58.015625 17.1875 \nL 47.609375 17.1875 \nL 47.609375 0 \nL 37.796875 0 \nL 37.796875 17.1875 \nL 4.890625 17.1875 \nL 4.890625 26.703125 \nz\n\" id=\"DejaVuSans-34\"/>\n      </defs>\n      <g transform=\"translate(184.731534 254.356562)scale(0.1 -0.1)\">\n       <use xlink:href=\"#DejaVuSans-34\"/>\n       <use x=\"63.623047\" xlink:href=\"#DejaVuSans-30\"/>\n      </g>\n     </g>\n    </g>\n    <g id=\"xtick_4\">\n     <g id=\"line2d_4\">\n      <g>\n       <use style=\"stroke:#000000;stroke-width:0.8;\" x=\"258.730398\" xlink:href=\"#m1ce37d2f7b\" y=\"239.758125\"/>\n      </g>\n     </g>\n     <g id=\"text_4\">\n      <!-- 60 -->\n      <defs>\n       <path d=\"M 33.015625 40.375 \nQ 26.375 40.375 22.484375 35.828125 \nQ 18.609375 31.296875 18.609375 23.390625 \nQ 18.609375 15.53125 22.484375 10.953125 \nQ 26.375 6.390625 33.015625 6.390625 \nQ 39.65625 6.390625 43.53125 10.953125 \nQ 47.40625 15.53125 47.40625 23.390625 \nQ 47.40625 31.296875 43.53125 35.828125 \nQ 39.65625 40.375 33.015625 40.375 \nz\nM 52.59375 71.296875 \nL 52.59375 62.3125 \nQ 48.875 64.0625 45.09375 64.984375 \nQ 41.3125 65.921875 37.59375 65.921875 \nQ 27.828125 65.921875 22.671875 59.328125 \nQ 17.53125 52.734375 16.796875 39.40625 \nQ 19.671875 43.65625 24.015625 45.921875 \nQ 28.375 48.1875 33.59375 48.1875 \nQ 44.578125 48.1875 50.953125 41.515625 \nQ 57.328125 34.859375 57.328125 23.390625 \nQ 57.328125 12.15625 50.6875 5.359375 \nQ 44.046875 -1.421875 33.015625 -1.421875 \nQ 20.359375 -1.421875 13.671875 8.265625 \nQ 6.984375 17.96875 6.984375 36.375 \nQ 6.984375 53.65625 15.1875 63.9375 \nQ 23.390625 74.21875 37.203125 74.21875 \nQ 40.921875 74.21875 44.703125 73.484375 \nQ 48.484375 72.75 52.59375 71.296875 \nz\n\" id=\"DejaVuSans-36\"/>\n      </defs>\n      <g transform=\"translate(252.367898 254.356562)scale(0.1 -0.1)\">\n       <use xlink:href=\"#DejaVuSans-36\"/>\n       <use x=\"63.623047\" xlink:href=\"#DejaVuSans-30\"/>\n      </g>\n     </g>\n    </g>\n    <g id=\"xtick_5\">\n     <g id=\"line2d_5\">\n      <g>\n       <use style=\"stroke:#000000;stroke-width:0.8;\" x=\"326.366761\" xlink:href=\"#m1ce37d2f7b\" y=\"239.758125\"/>\n      </g>\n     </g>\n     <g id=\"text_5\">\n      <!-- 80 -->\n      <defs>\n       <path d=\"M 31.78125 34.625 \nQ 24.75 34.625 20.71875 30.859375 \nQ 16.703125 27.09375 16.703125 20.515625 \nQ 16.703125 13.921875 20.71875 10.15625 \nQ 24.75 6.390625 31.78125 6.390625 \nQ 38.8125 6.390625 42.859375 10.171875 \nQ 46.921875 13.96875 46.921875 20.515625 \nQ 46.921875 27.09375 42.890625 30.859375 \nQ 38.875 34.625 31.78125 34.625 \nz\nM 21.921875 38.8125 \nQ 15.578125 40.375 12.03125 44.71875 \nQ 8.5 49.078125 8.5 55.328125 \nQ 8.5 64.0625 14.71875 69.140625 \nQ 20.953125 74.21875 31.78125 74.21875 \nQ 42.671875 74.21875 48.875 69.140625 \nQ 55.078125 64.0625 55.078125 55.328125 \nQ 55.078125 49.078125 51.53125 44.71875 \nQ 48 40.375 41.703125 38.8125 \nQ 48.828125 37.15625 52.796875 32.3125 \nQ 56.78125 27.484375 56.78125 20.515625 \nQ 56.78125 9.90625 50.3125 4.234375 \nQ 43.84375 -1.421875 31.78125 -1.421875 \nQ 19.734375 -1.421875 13.25 4.234375 \nQ 6.78125 9.90625 6.78125 20.515625 \nQ 6.78125 27.484375 10.78125 32.3125 \nQ 14.796875 37.15625 21.921875 38.8125 \nz\nM 18.3125 54.390625 \nQ 18.3125 48.734375 21.84375 45.5625 \nQ 25.390625 42.390625 31.78125 42.390625 \nQ 38.140625 42.390625 41.71875 45.5625 \nQ 45.3125 48.734375 45.3125 54.390625 \nQ 45.3125 60.0625 41.71875 63.234375 \nQ 38.140625 66.40625 31.78125 66.40625 \nQ 25.390625 66.40625 21.84375 63.234375 \nQ 18.3125 60.0625 18.3125 54.390625 \nz\n\" id=\"DejaVuSans-38\"/>\n      </defs>\n      <g transform=\"translate(320.004261 254.356562)scale(0.1 -0.1)\">\n       <use xlink:href=\"#DejaVuSans-38\"/>\n       <use x=\"63.623047\" xlink:href=\"#DejaVuSans-30\"/>\n      </g>\n     </g>\n    </g>\n    <g id=\"text_6\">\n     <!-- q1 -->\n     <defs>\n      <path d=\"M 14.796875 27.296875 \nQ 14.796875 17.390625 18.875 11.75 \nQ 22.953125 6.109375 30.078125 6.109375 \nQ 37.203125 6.109375 41.296875 11.75 \nQ 45.40625 17.390625 45.40625 27.296875 \nQ 45.40625 37.203125 41.296875 42.84375 \nQ 37.203125 48.484375 30.078125 48.484375 \nQ 22.953125 48.484375 18.875 42.84375 \nQ 14.796875 37.203125 14.796875 27.296875 \nz\nM 45.40625 8.203125 \nQ 42.578125 3.328125 38.25 0.953125 \nQ 33.9375 -1.421875 27.875 -1.421875 \nQ 17.96875 -1.421875 11.734375 6.484375 \nQ 5.515625 14.40625 5.515625 27.296875 \nQ 5.515625 40.1875 11.734375 48.09375 \nQ 17.96875 56 27.875 56 \nQ 33.9375 56 38.25 53.625 \nQ 42.578125 51.265625 45.40625 46.390625 \nL 45.40625 54.6875 \nL 54.390625 54.6875 \nL 54.390625 -20.796875 \nL 45.40625 -20.796875 \nz\n\" id=\"DejaVuSans-71\"/>\n      <path d=\"M 12.40625 8.296875 \nL 28.515625 8.296875 \nL 28.515625 63.921875 \nL 10.984375 60.40625 \nL 10.984375 69.390625 \nL 28.421875 72.90625 \nL 38.28125 72.90625 \nL 38.28125 8.296875 \nL 54.390625 8.296875 \nL 54.390625 0 \nL 12.40625 0 \nz\n\" id=\"DejaVuSans-31\"/>\n     </defs>\n     <g transform=\"translate(201.647656 268.034687)scale(0.1 -0.1)\">\n      <use xlink:href=\"#DejaVuSans-71\"/>\n      <use x=\"63.476562\" xlink:href=\"#DejaVuSans-31\"/>\n     </g>\n    </g>\n   </g>\n   <g id=\"matplotlib.axis_2\">\n    <g id=\"ytick_1\">\n     <g id=\"line2d_6\">\n      <defs>\n       <path d=\"M 0 0 \nL -3.5 0 \n\" id=\"m3593dba088\" style=\"stroke:#000000;stroke-width:0.8;\"/>\n      </defs>\n      <g>\n       <use style=\"stroke:#000000;stroke-width:0.8;\" x=\"40.603125\" xlink:href=\"#m3593dba088\" y=\"229.874489\"/>\n      </g>\n     </g>\n     <g id=\"text_7\">\n      <!-- 0 -->\n      <g transform=\"translate(27.240625 233.673707)scale(0.1 -0.1)\">\n       <use xlink:href=\"#DejaVuSans-30\"/>\n      </g>\n     </g>\n    </g>\n    <g id=\"ytick_2\">\n     <g id=\"line2d_7\">\n      <g>\n       <use style=\"stroke:#000000;stroke-width:0.8;\" x=\"40.603125\" xlink:href=\"#m3593dba088\" y=\"185.947216\"/>\n      </g>\n     </g>\n     <g id=\"text_8\">\n      <!-- 20 -->\n      <g transform=\"translate(20.878125 189.746435)scale(0.1 -0.1)\">\n       <use xlink:href=\"#DejaVuSans-32\"/>\n       <use x=\"63.623047\" xlink:href=\"#DejaVuSans-30\"/>\n      </g>\n     </g>\n    </g>\n    <g id=\"ytick_3\">\n     <g id=\"line2d_8\">\n      <g>\n       <use style=\"stroke:#000000;stroke-width:0.8;\" x=\"40.603125\" xlink:href=\"#m3593dba088\" y=\"142.019943\"/>\n      </g>\n     </g>\n     <g id=\"text_9\">\n      <!-- 40 -->\n      <g transform=\"translate(20.878125 145.819162)scale(0.1 -0.1)\">\n       <use xlink:href=\"#DejaVuSans-34\"/>\n       <use x=\"63.623047\" xlink:href=\"#DejaVuSans-30\"/>\n      </g>\n     </g>\n    </g>\n    <g id=\"ytick_4\">\n     <g id=\"line2d_9\">\n      <g>\n       <use style=\"stroke:#000000;stroke-width:0.8;\" x=\"40.603125\" xlink:href=\"#m3593dba088\" y=\"98.09267\"/>\n      </g>\n     </g>\n     <g id=\"text_10\">\n      <!-- 60 -->\n      <g transform=\"translate(20.878125 101.891889)scale(0.1 -0.1)\">\n       <use xlink:href=\"#DejaVuSans-36\"/>\n       <use x=\"63.623047\" xlink:href=\"#DejaVuSans-30\"/>\n      </g>\n     </g>\n    </g>\n    <g id=\"ytick_5\">\n     <g id=\"line2d_10\">\n      <g>\n       <use style=\"stroke:#000000;stroke-width:0.8;\" x=\"40.603125\" xlink:href=\"#m3593dba088\" y=\"54.165398\"/>\n      </g>\n     </g>\n     <g id=\"text_11\">\n      <!-- 80 -->\n      <g transform=\"translate(20.878125 57.964616)scale(0.1 -0.1)\">\n       <use xlink:href=\"#DejaVuSans-38\"/>\n       <use x=\"63.623047\" xlink:href=\"#DejaVuSans-30\"/>\n      </g>\n     </g>\n    </g>\n    <g id=\"text_12\">\n     <!-- q2 -->\n     <g transform=\"translate(14.798438 137.393594)rotate(-90)scale(0.1 -0.1)\">\n      <use xlink:href=\"#DejaVuSans-71\"/>\n      <use x=\"63.476562\" xlink:href=\"#DejaVuSans-32\"/>\n     </g>\n    </g>\n   </g>\n   <g id=\"line2d_11\">\n    <path clip-path=\"url(#p2e9a0f696d)\" d=\"M 208.003126 229.874489 \nL 207.240695 228.776307 \nL 207.08821 228.776307 \nL 205.715778 226.79958 \nL 205.563354 226.79958 \nL 204.190936 224.822852 \nL 204.03846 224.822852 \nL 202.666108 222.846125 \nL 202.513591 222.846125 \nL 201.141239 220.869398 \nL 200.98875 220.869398 \nL 199.463868 218.673034 \nL 199.311373 218.673034 \nL 197.938996 216.696307 \nL 197.786528 216.696307 \nL 196.414119 214.71958 \nL 196.261641 214.71958 \nL 194.889256 212.742852 \nL 194.736778 212.742852 \nL 193.364385 210.766125 \nL 193.211916 210.766125 \nL 191.839531 208.789398 \nL 191.687042 208.789398 \nL 190.162136 206.593034 \nL 190.009693 206.593034 \nL 188.637294 204.616307 \nL 188.484818 204.616307 \nL 187.112443 202.63958 \nL 186.959955 202.63958 \nL 185.58756 200.662852 \nL 185.435095 200.662852 \nL 184.062691 198.686125 \nL 183.910204 198.686125 \nL 182.38534 196.489761 \nL 182.232852 196.489761 \nL 180.860477 194.513034 \nL 180.707984 194.513034 \nL 179.335607 192.536307 \nL 179.183116 192.536307 \nL 177.810767 190.55958 \nL 177.658238 190.55958 \nL 176.285878 188.582852 \nL 176.133387 188.582852 \nL 174.761001 186.606125 \nL 174.608517 186.606125 \nL 173.083653 184.409761 \nL 172.93115 184.409761 \nL 171.558779 182.433034 \nL 171.406303 182.433034 \nL 170.03391 180.456307 \nL 169.881427 180.456307 \nL 168.509046 178.47958 \nL 168.35656 178.47958 \nL 166.98418 176.502852 \nL 166.831677 176.502852 \nL 165.306825 174.306489 \nL 165.154356 174.306489 \nL 163.781956 172.329761 \nL 163.629466 172.329761 \nL 162.25708 170.353034 \nL 162.104601 170.353034 \nL 160.732227 168.376307 \nL 160.579714 168.376307 \nL 159.207351 166.39958 \nL 159.054858 166.39958 \nL 157.682497 164.422852 \nL 157.529989 164.422852 \nL 156.005142 162.226489 \nL 155.852643 162.226489 \nL 154.480263 160.249761 \nL 154.327772 160.249761 \nL 152.955398 158.273034 \nL 152.802904 158.273034 \nL 151.430517 156.296307 \nL 151.278037 156.296307 \nL 149.905659 154.31958 \nL 149.753181 154.31958 \nL 148.2283 152.123216 \nL 148.075823 152.123216 \nL 146.703434 150.146489 \nL 146.550961 150.146489 \nL 145.178561 148.169761 \nL 145.026085 148.169761 \nL 143.653709 146.193034 \nL 143.5012 146.193034 \nL 142.128833 144.216307 \nL 141.976348 144.216307 \nL 140.603971 142.23958 \nL 140.45148 142.23958 \nL 138.926605 140.043216 \nL 138.774119 140.043216 \nL 137.401732 138.066489 \nL 137.249254 138.066489 \nL 135.876869 136.089761 \nL 135.724394 136.089761 \nL 134.352013 134.113034 \nL 134.199507 134.113034 \nL 132.827144 132.136307 \nL 132.674658 132.136307 \nL 131.149779 129.939943 \nL 130.99729 129.939943 \nL 129.624912 127.963216 \nL 129.47243 127.963216 \nL 128.100049 125.986489 \nL 127.94756 125.986489 \nL 126.575182 124.009761 \nL 126.422696 124.009761 \nL 125.050315 122.033034 \nL 124.897829 122.033034 \nL 123.372954 119.83667 \nL 123.22047 119.83667 \nL 121.84808 117.859943 \nL 121.69561 117.859943 \nL 120.32322 115.883216 \nL 120.170732 115.883216 \nL 118.798347 113.906489 \nL 118.645868 113.906489 \nL 117.27349 111.929761 \nL 117.121003 111.929761 \nL 115.748617 109.953034 \nL 115.59613 109.953034 \nL 114.071251 107.75667 \nL 113.91877 107.75667 \nL 112.546392 105.779943 \nL 112.3939 105.779943 \nL 111.021522 103.803216 \nL 110.86904 103.803216 \nL 109.496663 101.826489 \nL 109.344181 101.826489 \nL 107.971783 99.849761 \nL 107.819301 99.849761 \nL 106.294441 97.653398 \nL 106.141949 97.653398 \nL 104.769571 95.67667 \nL 104.617079 95.67667 \nL 103.244701 93.699943 \nL 103.09221 93.699943 \nL 101.719831 91.723216 \nL 101.56734 91.723216 \nL 100.194962 89.746489 \nL 100.042471 89.746489 \nL 98.670093 87.769761 \nL 98.51761 87.769761 \nL 96.99274 85.573398 \nL 96.840249 85.573398 \nL 95.467871 83.59667 \nL 95.315388 83.59667 \nL 93.943009 81.619943 \nL 93.790511 81.619943 \nL 92.418133 79.643216 \nL 92.265649 79.643216 \nL 90.89327 77.666489 \nL 90.74078 77.666489 \nL 89.215914 75.470125 \nL 89.063426 75.470125 \nL 87.691048 73.493398 \nL 87.538561 73.493398 \nL 86.166178 71.51667 \nL 86.013692 71.51667 \nL 84.641311 69.539943 \nL 84.488818 69.539943 \nL 83.116444 67.563216 \nL 82.963955 67.563216 \nL 81.591574 65.586489 \nL 81.439087 65.586489 \nL 79.914217 63.390125 \nL 79.761732 63.390125 \nL 78.389352 61.413398 \nL 78.236864 61.413398 \nL 76.864484 59.43667 \nL 76.711996 59.43667 \nL 75.339615 57.459943 \nL 75.18713 57.459943 \nL 73.814748 55.483216 \nL 73.662261 55.483216 \nL 72.137393 53.286852 \nL 71.984907 53.286852 \nL 70.612526 51.310125 \nL 70.460038 51.310125 \nL 69.087658 49.333398 \nL 68.935172 49.333398 \nL 67.56279 47.35667 \nL 67.410304 47.35667 \nL 66.037922 45.379943 \nL 65.885435 45.379943 \nL 64.513054 43.403216 \nL 64.360567 43.403216 \nL 62.835699 41.206852 \nL 62.683212 41.206852 \nL 61.310831 39.230125 \nL 61.158344 39.230125 \nL 59.785963 37.253398 \nL 59.633477 37.253398 \nL 58.261095 35.27667 \nL 58.108609 35.27667 \nL 56.736228 33.299943 \nL 56.583741 33.299943 \nL 55.821307 32.201761 \nL 55.821307 32.201761 \n\" style=\"fill:none;stroke:#1f77b4;stroke-linecap:square;stroke-width:1.5;\"/>\n   </g>\n   <g id=\"line2d_12\">\n    <path clip-path=\"url(#p2e9a0f696d)\" d=\"M 55.821307 131.038125 \nL 56.159489 131.038125 \nL 56.49767 131.257761 \nL 56.835852 131.257761 \nL 57.174034 131.477398 \nL 57.512216 131.477398 \nL 57.512216 131.697034 \nL 57.850398 131.697034 \nL 58.18858 131.91667 \nL 58.526761 131.91667 \nL 58.864943 132.136307 \nL 59.541307 132.136307 \nL 59.879489 132.355943 \nL 60.21767 132.355943 \nL 60.894034 132.795216 \nL 61.232216 132.795216 \nL 61.570398 133.014852 \nL 62.246761 133.014852 \nL 62.584943 133.234489 \nL 62.923125 133.234489 \nL 63.261307 133.454125 \nL 63.599489 133.454125 \nL 63.599489 133.673761 \nL 63.93767 133.673761 \nL 64.275852 133.893398 \nL 64.614034 133.893398 \nL 64.952216 134.113034 \nL 65.62858 134.113034 \nL 65.966761 134.33267 \nL 66.304943 134.33267 \nL 66.981307 134.771943 \nL 67.319489 134.771943 \nL 67.65767 134.99158 \nL 68.334034 134.99158 \nL 68.672216 135.211216 \nL 69.010398 135.211216 \nL 69.34858 135.430852 \nL 69.686761 135.430852 \nL 69.686761 135.650489 \nL 70.024943 135.650489 \nL 70.363125 135.870125 \nL 70.701307 135.870125 \nL 71.039489 136.089761 \nL 71.715852 136.089761 \nL 72.054034 136.309398 \nL 72.392216 136.309398 \nL 72.730398 136.529034 \nL 73.06858 136.529034 \nL 73.06858 136.74867 \nL 73.406761 136.74867 \nL 73.744943 136.968307 \nL 74.083125 136.968307 \nL 74.421307 137.187943 \nL 75.09767 137.187943 \nL 75.435852 137.40758 \nL 75.774034 137.40758 \nL 76.450398 137.846852 \nL 76.78858 137.846852 \nL 77.126761 138.066489 \nL 77.803125 138.066489 \nL 78.141307 138.286125 \nL 78.479489 138.286125 \nL 78.81767 138.505761 \nL 79.155852 138.505761 \nL 79.155852 138.725398 \nL 79.494034 138.725398 \nL 79.832216 138.945034 \nL 80.170398 138.945034 \nL 80.50858 139.16467 \nL 81.184943 139.16467 \nL 81.523125 139.384307 \nL 81.861307 139.384307 \nL 82.53767 139.82358 \nL 82.875852 139.82358 \nL 83.214034 140.043216 \nL 83.890398 140.043216 \nL 84.22858 140.262852 \nL 84.566761 140.262852 \nL 84.904943 140.482489 \nL 85.243125 140.482489 \nL 85.243125 140.702125 \nL 85.581307 140.702125 \nL 85.919489 140.921761 \nL 86.25767 140.921761 \nL 86.595852 141.141398 \nL 87.272216 141.141398 \nL 87.610398 141.361034 \nL 87.94858 141.361034 \nL 88.624943 141.800307 \nL 88.963125 141.800307 \nL 89.301307 142.019943 \nL 89.639489 142.019943 \nL 89.97767 142.23958 \nL 90.654034 142.23958 \nL 90.992216 142.459216 \nL 91.330398 142.459216 \nL 92.006761 142.898489 \nL 92.344943 142.898489 \nL 92.683125 143.118125 \nL 93.359489 143.118125 \nL 93.69767 143.337761 \nL 94.035852 143.337761 \nL 94.374034 143.557398 \nL 94.712216 143.557398 \nL 94.712216 143.777034 \nL 95.050398 143.777034 \nL 95.38858 143.99667 \nL 95.726761 143.99667 \nL 96.064943 144.216307 \nL 96.741307 144.216307 \nL 97.079489 144.435943 \nL 97.41767 144.435943 \nL 98.094034 144.875216 \nL 98.432216 144.875216 \nL 98.770398 145.094852 \nL 99.446761 145.094852 \nL 99.784943 145.314489 \nL 100.123125 145.314489 \nL 100.461307 145.534125 \nL 100.799489 145.534125 \nL 100.799489 145.753761 \nL 101.13767 145.753761 \nL 101.475852 145.973398 \nL 101.814034 145.973398 \nL 102.152216 146.193034 \nL 102.82858 146.193034 \nL 103.166761 146.41267 \nL 103.504943 146.41267 \nL 104.181307 146.851943 \nL 104.519489 146.851943 \nL 104.85767 147.07158 \nL 105.534034 147.07158 \nL 105.872216 147.291216 \nL 106.210398 147.291216 \nL 106.54858 147.510852 \nL 106.886761 147.510852 \nL 107.563125 147.950125 \nL 107.901307 147.950125 \nL 108.239489 148.169761 \nL 108.915852 148.169761 \nL 109.254034 148.389398 \nL 109.592216 148.389398 \nL 109.930398 148.609034 \nL 110.26858 148.609034 \nL 110.26858 148.82867 \nL 110.606761 148.82867 \nL 110.944943 149.048307 \nL 111.283125 149.048307 \nL 111.621307 149.267943 \nL 112.29767 149.267943 \nL 112.635852 149.48758 \nL 112.974034 149.48758 \nL 113.650398 149.926852 \nL 113.98858 149.926852 \nL 114.326761 150.146489 \nL 115.003125 150.146489 \nL 115.341307 150.366125 \nL 115.679489 150.366125 \nL 116.01767 150.585761 \nL 116.355852 150.585761 \nL 116.355852 150.805398 \nL 116.694034 150.805398 \nL 117.032216 151.025034 \nL 117.370398 151.025034 \nL 117.70858 151.24467 \nL 118.384943 151.24467 \nL 118.723125 151.464307 \nL 119.061307 151.464307 \nL 119.73767 151.90358 \nL 120.075852 151.90358 \nL 120.414034 152.123216 \nL 121.090398 152.123216 \nL 121.42858 152.342852 \nL 121.766761 152.342852 \nL 122.104943 152.562489 \nL 122.443125 152.562489 \nL 122.443125 152.782125 \nL 122.781307 152.782125 \nL 123.119489 153.001761 \nL 123.45767 153.001761 \nL 123.795852 153.221398 \nL 124.472216 153.221398 \nL 124.810398 153.441034 \nL 125.14858 153.441034 \nL 125.486761 153.66067 \nL 125.824943 153.66067 \nL 125.824943 153.880307 \nL 126.163125 153.880307 \nL 126.501307 154.099943 \nL 126.839489 154.099943 \nL 127.17767 154.31958 \nL 127.854034 154.31958 \nL 128.192216 154.539216 \nL 128.530398 154.539216 \nL 129.206761 154.978489 \nL 129.544943 154.978489 \nL 129.883125 155.198125 \nL 130.559489 155.198125 \nL 130.89767 155.417761 \nL 131.235852 155.417761 \nL 131.574034 155.637398 \nL 131.912216 155.637398 \nL 131.912216 155.857034 \nL 132.250398 155.857034 \nL 132.58858 156.07667 \nL 132.926761 156.07667 \nL 133.264943 156.296307 \nL 133.941307 156.296307 \nL 134.279489 156.515943 \nL 134.61767 156.515943 \nL 135.294034 156.955216 \nL 135.632216 156.955216 \nL 135.970398 157.174852 \nL 136.646761 157.174852 \nL 136.984943 157.394489 \nL 137.323125 157.394489 \nL 137.661307 157.614125 \nL 137.999489 157.614125 \nL 137.999489 157.833761 \nL 138.33767 157.833761 \nL 138.675852 158.053398 \nL 139.014034 158.053398 \nL 139.352216 158.273034 \nL 140.02858 158.273034 \nL 140.366761 158.49267 \nL 140.704943 158.49267 \nL 141.043125 158.712307 \nL 141.381307 158.712307 \nL 141.381307 158.931943 \nL 141.719489 158.931943 \nL 142.05767 159.15158 \nL 142.395852 159.15158 \nL 142.734034 159.371216 \nL 143.410398 159.371216 \nL 143.74858 159.590852 \nL 144.086761 159.590852 \nL 144.763125 160.030125 \nL 145.101307 160.030125 \nL 145.439489 160.249761 \nL 146.115852 160.249761 \nL 146.454034 160.469398 \nL 146.792216 160.469398 \nL 147.130398 160.689034 \nL 147.46858 160.689034 \nL 147.46858 160.90867 \nL 147.806761 160.90867 \nL 148.144943 161.128307 \nL 148.483125 161.128307 \nL 148.821307 161.347943 \nL 149.49767 161.347943 \nL 149.835852 161.56758 \nL 150.174034 161.56758 \nL 150.850398 162.006852 \nL 151.18858 162.006852 \nL 151.526761 162.226489 \nL 152.203125 162.226489 \nL 152.541307 162.446125 \nL 152.879489 162.446125 \nL 153.21767 162.665761 \nL 153.555852 162.665761 \nL 153.555852 162.885398 \nL 153.894034 162.885398 \nL 154.232216 163.105034 \nL 154.570398 163.105034 \nL 154.90858 163.32467 \nL 155.584943 163.32467 \nL 155.923125 163.544307 \nL 156.261307 163.544307 \nL 156.93767 163.98358 \nL 157.275852 163.98358 \nL 157.614034 164.203216 \nL 157.952216 164.203216 \nL 158.290398 164.422852 \nL 158.966761 164.422852 \nL 159.304943 164.642489 \nL 159.643125 164.642489 \nL 160.319489 165.081761 \nL 160.65767 165.081761 \nL 160.995852 165.301398 \nL 161.672216 165.301398 \nL 162.010398 165.521034 \nL 162.34858 165.521034 \nL 162.686761 165.74067 \nL 163.024943 165.74067 \nL 163.024943 165.960307 \nL 163.363125 165.960307 \nL 163.701307 166.179943 \nL 164.039489 166.179943 \nL 164.37767 166.39958 \nL 165.054034 166.39958 \nL 165.392216 166.619216 \nL 165.730398 166.619216 \nL 166.406761 167.058489 \nL 166.744943 167.058489 \nL 167.083125 167.278125 \nL 167.759489 167.278125 \nL 168.09767 167.497761 \nL 168.435852 167.497761 \nL 168.774034 167.717398 \nL 169.112216 167.717398 \nL 169.112216 167.937034 \nL 169.450398 167.937034 \nL 169.78858 168.15667 \nL 170.126761 168.15667 \nL 170.464943 168.376307 \nL 171.141307 168.376307 \nL 171.479489 168.595943 \nL 171.81767 168.595943 \nL 172.494034 169.035216 \nL 172.832216 169.035216 \nL 173.170398 169.254852 \nL 173.846761 169.254852 \nL 174.184943 169.474489 \nL 174.523125 169.474489 \nL 174.861307 169.694125 \nL 175.199489 169.694125 \nL 175.875852 170.133398 \nL 176.214034 170.133398 \nL 176.552216 170.353034 \nL 177.22858 170.353034 \nL 177.566761 170.57267 \nL 177.904943 170.57267 \nL 178.243125 170.792307 \nL 178.581307 170.792307 \nL 178.581307 171.011943 \nL 178.919489 171.011943 \nL 179.25767 171.23158 \nL 179.595852 171.23158 \nL 179.934034 171.451216 \nL 180.610398 171.451216 \nL 180.94858 171.670852 \nL 181.286761 171.670852 \nL 181.963125 172.110125 \nL 182.301307 172.110125 \nL 182.639489 172.329761 \nL 183.315852 172.329761 \nL 183.654034 172.549398 \nL 183.992216 172.549398 \nL 184.330398 172.769034 \nL 184.66858 172.769034 \nL 184.66858 172.98867 \nL 185.006761 172.98867 \nL 185.344943 173.208307 \nL 185.683125 173.208307 \nL 186.021307 173.427943 \nL 186.69767 173.427943 \nL 187.035852 173.64758 \nL 187.374034 173.64758 \nL 188.050398 174.086852 \nL 188.38858 174.086852 \nL 188.726761 174.306489 \nL 189.403125 174.306489 \nL 189.741307 174.526125 \nL 190.079489 174.526125 \nL 190.41767 174.745761 \nL 190.755852 174.745761 \nL 190.755852 174.965398 \nL 191.094034 174.965398 \nL 191.432216 175.185034 \nL 191.770398 175.185034 \nL 192.10858 175.40467 \nL 192.784943 175.40467 \nL 193.123125 175.624307 \nL 193.461307 175.624307 \nL 193.799489 175.843943 \nL 194.13767 175.843943 \nL 194.13767 176.06358 \nL 194.475852 176.06358 \nL 194.814034 176.283216 \nL 195.152216 176.283216 \nL 195.490398 176.502852 \nL 196.166761 176.502852 \nL 196.504943 176.722489 \nL 196.843125 176.722489 \nL 197.519489 177.161761 \nL 197.85767 177.161761 \nL 198.195852 177.381398 \nL 198.872216 177.381398 \nL 199.210398 177.601034 \nL 199.54858 177.601034 \nL 199.886761 177.82067 \nL 200.224943 177.82067 \nL 200.224943 178.040307 \nL 200.563125 178.040307 \nL 200.901307 178.259943 \nL 201.239489 178.259943 \nL 201.57767 178.47958 \nL 202.254034 178.47958 \nL 202.592216 178.699216 \nL 202.930398 178.699216 \nL 203.606761 179.138489 \nL 203.944943 179.138489 \nL 204.283125 179.358125 \nL 204.959489 179.358125 \nL 205.29767 179.577761 \nL 205.635852 179.577761 \nL 205.974034 179.797398 \nL 206.312216 179.797398 \nL 206.312216 180.017034 \nL 206.650398 180.017034 \nL 206.98858 180.23667 \nL 207.326761 180.23667 \nL 207.664943 180.456307 \nL 208.341307 180.456307 \nL 208.679489 180.675943 \nL 209.01767 180.675943 \nL 209.355852 180.89558 \nL 209.694034 180.89558 \nL 209.694034 181.115216 \nL 210.032216 181.115216 \nL 210.370398 181.334852 \nL 210.70858 181.334852 \nL 211.046761 181.554489 \nL 211.723125 181.554489 \nL 212.061307 181.774125 \nL 212.399489 181.774125 \nL 213.075852 182.213398 \nL 213.414034 182.213398 \nL 213.752216 182.433034 \nL 214.42858 182.433034 \nL 214.766761 182.65267 \nL 215.104943 182.65267 \nL 215.443125 182.872307 \nL 215.781307 182.872307 \nL 215.781307 183.091943 \nL 216.119489 183.091943 \nL 216.45767 183.31158 \nL 216.795852 183.31158 \nL 217.134034 183.531216 \nL 217.810398 183.531216 \nL 218.14858 183.750852 \nL 218.486761 183.750852 \nL 219.163125 184.190125 \nL 219.501307 184.190125 \nL 219.839489 184.409761 \nL 220.515852 184.409761 \nL 220.854034 184.629398 \nL 221.192216 184.629398 \nL 221.530398 184.849034 \nL 221.86858 184.849034 \nL 221.86858 185.06867 \nL 222.206761 185.06867 \nL 222.544943 185.288307 \nL 222.883125 185.288307 \nL 223.221307 185.507943 \nL 223.89767 185.507943 \nL 224.235852 185.72758 \nL 224.574034 185.72758 \nL 224.912216 185.947216 \nL 225.250398 185.947216 \nL 225.250398 186.166852 \nL 225.58858 186.166852 \nL 225.926761 186.386489 \nL 226.264943 186.386489 \nL 226.603125 186.606125 \nL 227.279489 186.606125 \nL 227.61767 186.825761 \nL 227.955852 186.825761 \nL 228.632216 187.265034 \nL 228.970398 187.265034 \nL 229.30858 187.48467 \nL 229.984943 187.48467 \nL 230.323125 187.704307 \nL 230.661307 187.704307 \nL 230.999489 187.923943 \nL 231.33767 187.923943 \nL 231.33767 188.14358 \nL 231.675852 188.14358 \nL 232.014034 188.363216 \nL 232.352216 188.363216 \nL 232.690398 188.582852 \nL 233.366761 188.582852 \nL 233.704943 188.802489 \nL 234.043125 188.802489 \nL 234.719489 189.241761 \nL 235.05767 189.241761 \nL 235.395852 189.461398 \nL 236.072216 189.461398 \nL 236.410398 189.681034 \nL 236.74858 189.681034 \nL 237.086761 189.90067 \nL 237.424943 189.90067 \nL 237.424943 190.120307 \nL 237.763125 190.120307 \nL 238.101307 190.339943 \nL 238.439489 190.339943 \nL 238.77767 190.55958 \nL 239.454034 190.55958 \nL 239.792216 190.779216 \nL 240.130398 190.779216 \nL 240.806761 191.218489 \nL 241.144943 191.218489 \nL 241.483125 191.438125 \nL 241.821307 191.438125 \nL 242.159489 191.657761 \nL 242.835852 191.657761 \nL 243.174034 191.877398 \nL 243.512216 191.877398 \nL 244.18858 192.31667 \nL 244.526761 192.31667 \nL 244.864943 192.536307 \nL 245.541307 192.536307 \nL 245.879489 192.755943 \nL 246.21767 192.755943 \nL 246.555852 192.97558 \nL 246.894034 192.97558 \nL 246.894034 193.195216 \nL 247.232216 193.195216 \nL 247.570398 193.414852 \nL 247.90858 193.414852 \nL 248.246761 193.634489 \nL 248.923125 193.634489 \nL 249.261307 193.854125 \nL 249.599489 193.854125 \nL 250.275852 194.293398 \nL 250.614034 194.293398 \nL 250.952216 194.513034 \nL 251.62858 194.513034 \nL 251.966761 194.73267 \nL 252.304943 194.73267 \nL 252.643125 194.952307 \nL 252.981307 194.952307 \nL 252.981307 195.171943 \nL 253.319489 195.171943 \nL 253.65767 195.39158 \nL 253.995852 195.39158 \nL 254.334034 195.611216 \nL 255.010398 195.611216 \nL 255.34858 195.830852 \nL 255.686761 195.830852 \nL 256.363125 196.270125 \nL 256.701307 196.270125 \nL 257.039489 196.489761 \nL 257.715852 196.489761 \nL 258.054034 196.709398 \nL 258.392216 196.709398 \nL 258.730398 196.929034 \nL 259.06858 196.929034 \nL 259.744943 197.368307 \nL 260.083125 197.368307 \nL 260.421307 197.587943 \nL 261.09767 197.587943 \nL 261.435852 197.80758 \nL 261.774034 197.80758 \nL 262.112216 198.027216 \nL 262.450398 198.027216 \nL 262.450398 198.246852 \nL 262.78858 198.246852 \nL 263.126761 198.466489 \nL 263.464943 198.466489 \nL 263.803125 198.686125 \nL 264.479489 198.686125 \nL 264.81767 198.905761 \nL 265.155852 198.905761 \nL 265.832216 199.345034 \nL 266.170398 199.345034 \nL 266.50858 199.56467 \nL 267.184943 199.56467 \nL 267.523125 199.784307 \nL 267.861307 199.784307 \nL 268.199489 200.003943 \nL 268.53767 200.003943 \nL 268.53767 200.22358 \nL 268.875852 200.22358 \nL 269.214034 200.443216 \nL 269.552216 200.443216 \nL 269.890398 200.662852 \nL 270.566761 200.662852 \nL 270.904943 200.882489 \nL 271.243125 200.882489 \nL 271.919489 201.321761 \nL 272.25767 201.321761 \nL 272.595852 201.541398 \nL 273.272216 201.541398 \nL 273.610398 201.761034 \nL 273.94858 201.761034 \nL 274.286761 201.98067 \nL 274.624943 201.98067 \nL 274.624943 202.200307 \nL 274.963125 202.200307 \nL 275.301307 202.419943 \nL 275.639489 202.419943 \nL 275.97767 202.63958 \nL 276.654034 202.63958 \nL 276.992216 202.859216 \nL 277.330398 202.859216 \nL 277.66858 203.078852 \nL 278.006761 203.078852 \nL 278.006761 203.298489 \nL 278.344943 203.298489 \nL 278.683125 203.518125 \nL 279.021307 203.518125 \nL 279.359489 203.737761 \nL 280.035852 203.737761 \nL 280.374034 203.957398 \nL 280.712216 203.957398 \nL 281.38858 204.39667 \nL 281.726761 204.39667 \nL 282.064943 204.616307 \nL 282.741307 204.616307 \nL 283.079489 204.835943 \nL 283.41767 204.835943 \nL 283.755852 205.05558 \nL 284.094034 205.05558 \nL 284.094034 205.275216 \nL 284.432216 205.275216 \nL 284.770398 205.494852 \nL 285.10858 205.494852 \nL 285.446761 205.714489 \nL 286.123125 205.714489 \nL 286.461307 205.934125 \nL 286.799489 205.934125 \nL 287.475852 206.373398 \nL 287.814034 206.373398 \nL 288.152216 206.593034 \nL 288.82858 206.593034 \nL 289.166761 206.81267 \nL 289.504943 206.81267 \nL 289.843125 207.032307 \nL 290.181307 207.032307 \nL 290.181307 207.251943 \nL 290.519489 207.251943 \nL 290.85767 207.47158 \nL 291.195852 207.47158 \nL 291.534034 207.691216 \nL 292.210398 207.691216 \nL 292.54858 207.910852 \nL 292.886761 207.910852 \nL 293.224943 208.130489 \nL 293.563125 208.130489 \nL 293.563125 208.350125 \nL 293.901307 208.350125 \nL 294.239489 208.569761 \nL 294.57767 208.569761 \nL 294.915852 208.789398 \nL 295.592216 208.789398 \nL 295.930398 209.009034 \nL 296.26858 209.009034 \nL 296.944943 209.448307 \nL 297.283125 209.448307 \nL 297.621307 209.667943 \nL 298.29767 209.667943 \nL 298.635852 209.88758 \nL 298.974034 209.88758 \nL 299.312216 210.107216 \nL 299.650398 210.107216 \nL 299.650398 210.326852 \nL 299.98858 210.326852 \nL 300.326761 210.546489 \nL 300.664943 210.546489 \nL 301.003125 210.766125 \nL 301.679489 210.766125 \nL 302.01767 210.985761 \nL 302.355852 210.985761 \nL 303.032216 211.425034 \nL 303.370398 211.425034 \nL 303.70858 211.64467 \nL 304.384943 211.64467 \nL 304.723125 211.864307 \nL 305.061307 211.864307 \nL 305.399489 212.083943 \nL 305.73767 212.083943 \nL 305.73767 212.30358 \nL 306.075852 212.30358 \nL 306.414034 212.523216 \nL 306.752216 212.523216 \nL 307.090398 212.742852 \nL 307.766761 212.742852 \nL 308.104943 212.962489 \nL 308.443125 212.962489 \nL 309.119489 213.401761 \nL 309.45767 213.401761 \nL 309.795852 213.621398 \nL 310.134034 213.621398 \nL 310.472216 213.841034 \nL 311.14858 213.841034 \nL 311.486761 214.06067 \nL 311.824943 214.06067 \nL 312.501307 214.499943 \nL 312.839489 214.499943 \nL 313.17767 214.71958 \nL 313.854034 214.71958 \nL 314.192216 214.939216 \nL 314.530398 214.939216 \nL 314.86858 215.158852 \nL 315.206761 215.158852 \nL 315.206761 215.378489 \nL 315.544943 215.378489 \nL 315.883125 215.598125 \nL 316.221307 215.598125 \nL 316.559489 215.817761 \nL 317.235852 215.817761 \nL 317.574034 216.037398 \nL 317.912216 216.037398 \nL 318.58858 216.47667 \nL 318.926761 216.47667 \nL 319.264943 216.696307 \nL 319.941307 216.696307 \nL 320.279489 216.915943 \nL 320.61767 216.915943 \nL 320.955852 217.13558 \nL 321.294034 217.13558 \nL 321.294034 217.355216 \nL 321.632216 217.355216 \nL 321.970398 217.574852 \nL 322.30858 217.574852 \nL 322.646761 217.794489 \nL 323.323125 217.794489 \nL 323.661307 218.014125 \nL 323.999489 218.014125 \nL 324.675852 218.453398 \nL 325.014034 218.453398 \nL 325.352216 218.673034 \nL 326.02858 218.673034 \nL 326.366761 218.89267 \nL 326.704943 218.89267 \nL 327.043125 219.112307 \nL 327.381307 219.112307 \nL 328.05767 219.55158 \nL 328.395852 219.55158 \nL 328.734034 219.771216 \nL 329.410398 219.771216 \nL 329.74858 219.990852 \nL 330.086761 219.990852 \nL 330.424943 220.210489 \nL 330.763125 220.210489 \nL 330.763125 220.430125 \nL 331.101307 220.430125 \nL 331.439489 220.649761 \nL 331.77767 220.649761 \nL 332.115852 220.869398 \nL 332.792216 220.869398 \nL 333.130398 221.089034 \nL 333.46858 221.089034 \nL 334.144943 221.528307 \nL 334.483125 221.528307 \nL 334.821307 221.747943 \nL 335.49767 221.747943 \nL 335.835852 221.96758 \nL 336.174034 221.96758 \nL 336.512216 222.187216 \nL 336.850398 222.187216 \nL 336.850398 222.406852 \nL 337.18858 222.406852 \nL 337.526761 222.626489 \nL 337.864943 222.626489 \nL 338.203125 222.846125 \nL 338.879489 222.846125 \nL 339.21767 223.065761 \nL 339.555852 223.065761 \nL 340.232216 223.505034 \nL 340.570398 223.505034 \nL 340.90858 223.72467 \nL 341.584943 223.72467 \nL 341.923125 223.944307 \nL 342.261307 223.944307 \nL 342.599489 224.163943 \nL 342.93767 224.163943 \nL 342.93767 224.38358 \nL 343.275852 224.38358 \nL 343.614034 224.603216 \nL 343.952216 224.603216 \nL 344.290398 224.822852 \nL 344.966761 224.822852 \nL 345.304943 225.042489 \nL 345.643125 225.042489 \nL 345.981307 225.262125 \nL 346.319489 225.262125 \nL 346.319489 225.481761 \nL 346.65767 225.481761 \nL 346.995852 225.701398 \nL 347.334034 225.701398 \nL 347.672216 225.921034 \nL 348.34858 225.921034 \nL 348.686761 226.14067 \nL 349.024943 226.14067 \nL 349.701307 226.579943 \nL 350.039489 226.579943 \nL 350.37767 226.79958 \nL 351.054034 226.79958 \nL 351.392216 227.019216 \nL 351.730398 227.019216 \nL 352.06858 227.238852 \nL 352.406761 227.238852 \nL 352.406761 227.458489 \nL 352.744943 227.458489 \nL 353.083125 227.678125 \nL 353.421307 227.678125 \nL 353.759489 227.897761 \nL 354.435852 227.897761 \nL 354.774034 228.117398 \nL 355.112216 228.117398 \nL 355.78858 228.55667 \nL 356.126761 228.55667 \nL 356.464943 228.776307 \nL 357.141307 228.776307 \nL 357.479489 228.995943 \nL 357.81767 228.995943 \nL 358.155852 229.21558 \nL 358.494034 229.21558 \nL 358.494034 229.435216 \nL 358.832216 229.435216 \nL 359.170398 229.654852 \nL 359.50858 229.654852 \nL 359.846761 229.874489 \nL 360.184943 229.874489 \nL 360.184943 229.874489 \n\" style=\"fill:none;stroke:#ff7f0e;stroke-linecap:square;stroke-width:1.5;\"/>\n   </g>\n   <g id=\"line2d_13\">\n    <defs>\n     <path d=\"M 0 3 \nC 0.795609 3 1.55874 2.683901 2.12132 2.12132 \nC 2.683901 1.55874 3 0.795609 3 0 \nC 3 -0.795609 2.683901 -1.55874 2.12132 -2.12132 \nC 1.55874 -2.683901 0.795609 -3 0 -3 \nC -0.795609 -3 -1.55874 -2.683901 -2.12132 -2.12132 \nC -2.683901 -1.55874 -3 -0.795609 -3 0 \nC -3 0.795609 -2.683901 1.55874 -2.12132 2.12132 \nC -1.55874 2.683901 -0.795609 3 0 3 \nz\n\" id=\"m85ee5990e4\" style=\"stroke:#ff0000;\"/>\n    </defs>\n    <g clip-path=\"url(#p2e9a0f696d)\">\n     <use style=\"fill:#ff0000;stroke:#ff0000;\" x=\"157.275852\" xlink:href=\"#m85ee5990e4\" y=\"163.98358\"/>\n    </g>\n   </g>\n   <g id=\"patch_3\">\n    <path d=\"M 40.603125 239.758125 \nL 40.603125 22.318125 \n\" style=\"fill:none;stroke:#000000;stroke-linecap:square;stroke-linejoin:miter;stroke-width:0.8;\"/>\n   </g>\n   <g id=\"patch_4\">\n    <path d=\"M 375.403125 239.758125 \nL 375.403125 22.318125 \n\" style=\"fill:none;stroke:#000000;stroke-linecap:square;stroke-linejoin:miter;stroke-width:0.8;\"/>\n   </g>\n   <g id=\"patch_5\">\n    <path d=\"M 40.603125 239.758125 \nL 375.403125 239.758125 \n\" style=\"fill:none;stroke:#000000;stroke-linecap:square;stroke-linejoin:miter;stroke-width:0.8;\"/>\n   </g>\n   <g id=\"patch_6\">\n    <path d=\"M 40.603125 22.318125 \nL 375.403125 22.318125 \n\" style=\"fill:none;stroke:#000000;stroke-linecap:square;stroke-linejoin:miter;stroke-width:0.8;\"/>\n   </g>\n   <g id=\"text_13\">\n    <!-- Response functions -->\n    <defs>\n     <path d=\"M 44.390625 34.1875 \nQ 47.5625 33.109375 50.5625 29.59375 \nQ 53.5625 26.078125 56.59375 19.921875 \nL 66.609375 0 \nL 56 0 \nL 46.6875 18.703125 \nQ 43.0625 26.03125 39.671875 28.421875 \nQ 36.28125 30.8125 30.421875 30.8125 \nL 19.671875 30.8125 \nL 19.671875 0 \nL 9.8125 0 \nL 9.8125 72.90625 \nL 32.078125 72.90625 \nQ 44.578125 72.90625 50.734375 67.671875 \nQ 56.890625 62.453125 56.890625 51.90625 \nQ 56.890625 45.015625 53.6875 40.46875 \nQ 50.484375 35.9375 44.390625 34.1875 \nz\nM 19.671875 64.796875 \nL 19.671875 38.921875 \nL 32.078125 38.921875 \nQ 39.203125 38.921875 42.84375 42.21875 \nQ 46.484375 45.515625 46.484375 51.90625 \nQ 46.484375 58.296875 42.84375 61.546875 \nQ 39.203125 64.796875 32.078125 64.796875 \nz\n\" id=\"DejaVuSans-52\"/>\n     <path d=\"M 56.203125 29.59375 \nL 56.203125 25.203125 \nL 14.890625 25.203125 \nQ 15.484375 15.921875 20.484375 11.0625 \nQ 25.484375 6.203125 34.421875 6.203125 \nQ 39.59375 6.203125 44.453125 7.46875 \nQ 49.3125 8.734375 54.109375 11.28125 \nL 54.109375 2.78125 \nQ 49.265625 0.734375 44.1875 -0.34375 \nQ 39.109375 -1.421875 33.890625 -1.421875 \nQ 20.796875 -1.421875 13.15625 6.1875 \nQ 5.515625 13.8125 5.515625 26.8125 \nQ 5.515625 40.234375 12.765625 48.109375 \nQ 20.015625 56 32.328125 56 \nQ 43.359375 56 49.78125 48.890625 \nQ 56.203125 41.796875 56.203125 29.59375 \nz\nM 47.21875 32.234375 \nQ 47.125 39.59375 43.09375 43.984375 \nQ 39.0625 48.390625 32.421875 48.390625 \nQ 24.90625 48.390625 20.390625 44.140625 \nQ 15.875 39.890625 15.1875 32.171875 \nz\n\" id=\"DejaVuSans-65\"/>\n     <path d=\"M 44.28125 53.078125 \nL 44.28125 44.578125 \nQ 40.484375 46.53125 36.375 47.5 \nQ 32.28125 48.484375 27.875 48.484375 \nQ 21.1875 48.484375 17.84375 46.4375 \nQ 14.5 44.390625 14.5 40.28125 \nQ 14.5 37.15625 16.890625 35.375 \nQ 19.28125 33.59375 26.515625 31.984375 \nL 29.59375 31.296875 \nQ 39.15625 29.25 43.1875 25.515625 \nQ 47.21875 21.78125 47.21875 15.09375 \nQ 47.21875 7.46875 41.1875 3.015625 \nQ 35.15625 -1.421875 24.609375 -1.421875 \nQ 20.21875 -1.421875 15.453125 -0.5625 \nQ 10.6875 0.296875 5.421875 2 \nL 5.421875 11.28125 \nQ 10.40625 8.6875 15.234375 7.390625 \nQ 20.0625 6.109375 24.8125 6.109375 \nQ 31.15625 6.109375 34.5625 8.28125 \nQ 37.984375 10.453125 37.984375 14.40625 \nQ 37.984375 18.0625 35.515625 20.015625 \nQ 33.0625 21.96875 24.703125 23.78125 \nL 21.578125 24.515625 \nQ 13.234375 26.265625 9.515625 29.90625 \nQ 5.8125 33.546875 5.8125 39.890625 \nQ 5.8125 47.609375 11.28125 51.796875 \nQ 16.75 56 26.8125 56 \nQ 31.78125 56 36.171875 55.265625 \nQ 40.578125 54.546875 44.28125 53.078125 \nz\n\" id=\"DejaVuSans-73\"/>\n     <path d=\"M 18.109375 8.203125 \nL 18.109375 -20.796875 \nL 9.078125 -20.796875 \nL 9.078125 54.6875 \nL 18.109375 54.6875 \nL 18.109375 46.390625 \nQ 20.953125 51.265625 25.265625 53.625 \nQ 29.59375 56 35.59375 56 \nQ 45.5625 56 51.78125 48.09375 \nQ 58.015625 40.1875 58.015625 27.296875 \nQ 58.015625 14.40625 51.78125 6.484375 \nQ 45.5625 -1.421875 35.59375 -1.421875 \nQ 29.59375 -1.421875 25.265625 0.953125 \nQ 20.953125 3.328125 18.109375 8.203125 \nz\nM 48.6875 27.296875 \nQ 48.6875 37.203125 44.609375 42.84375 \nQ 40.53125 48.484375 33.40625 48.484375 \nQ 26.265625 48.484375 22.1875 42.84375 \nQ 18.109375 37.203125 18.109375 27.296875 \nQ 18.109375 17.390625 22.1875 11.75 \nQ 26.265625 6.109375 33.40625 6.109375 \nQ 40.53125 6.109375 44.609375 11.75 \nQ 48.6875 17.390625 48.6875 27.296875 \nz\n\" id=\"DejaVuSans-70\"/>\n     <path d=\"M 30.609375 48.390625 \nQ 23.390625 48.390625 19.1875 42.75 \nQ 14.984375 37.109375 14.984375 27.296875 \nQ 14.984375 17.484375 19.15625 11.84375 \nQ 23.34375 6.203125 30.609375 6.203125 \nQ 37.796875 6.203125 41.984375 11.859375 \nQ 46.1875 17.53125 46.1875 27.296875 \nQ 46.1875 37.015625 41.984375 42.703125 \nQ 37.796875 48.390625 30.609375 48.390625 \nz\nM 30.609375 56 \nQ 42.328125 56 49.015625 48.375 \nQ 55.71875 40.765625 55.71875 27.296875 \nQ 55.71875 13.875 49.015625 6.21875 \nQ 42.328125 -1.421875 30.609375 -1.421875 \nQ 18.84375 -1.421875 12.171875 6.21875 \nQ 5.515625 13.875 5.515625 27.296875 \nQ 5.515625 40.765625 12.171875 48.375 \nQ 18.84375 56 30.609375 56 \nz\n\" id=\"DejaVuSans-6f\"/>\n     <path d=\"M 54.890625 33.015625 \nL 54.890625 0 \nL 45.90625 0 \nL 45.90625 32.71875 \nQ 45.90625 40.484375 42.875 44.328125 \nQ 39.84375 48.1875 33.796875 48.1875 \nQ 26.515625 48.1875 22.3125 43.546875 \nQ 18.109375 38.921875 18.109375 30.90625 \nL 18.109375 0 \nL 9.078125 0 \nL 9.078125 54.6875 \nL 18.109375 54.6875 \nL 18.109375 46.1875 \nQ 21.34375 51.125 25.703125 53.5625 \nQ 30.078125 56 35.796875 56 \nQ 45.21875 56 50.046875 50.171875 \nQ 54.890625 44.34375 54.890625 33.015625 \nz\n\" id=\"DejaVuSans-6e\"/>\n     <path id=\"DejaVuSans-20\"/>\n     <path d=\"M 37.109375 75.984375 \nL 37.109375 68.5 \nL 28.515625 68.5 \nQ 23.6875 68.5 21.796875 66.546875 \nQ 19.921875 64.59375 19.921875 59.515625 \nL 19.921875 54.6875 \nL 34.71875 54.6875 \nL 34.71875 47.703125 \nL 19.921875 47.703125 \nL 19.921875 0 \nL 10.890625 0 \nL 10.890625 47.703125 \nL 2.296875 47.703125 \nL 2.296875 54.6875 \nL 10.890625 54.6875 \nL 10.890625 58.5 \nQ 10.890625 67.625 15.140625 71.796875 \nQ 19.390625 75.984375 28.609375 75.984375 \nz\n\" id=\"DejaVuSans-66\"/>\n     <path d=\"M 8.5 21.578125 \nL 8.5 54.6875 \nL 17.484375 54.6875 \nL 17.484375 21.921875 \nQ 17.484375 14.15625 20.5 10.265625 \nQ 23.53125 6.390625 29.59375 6.390625 \nQ 36.859375 6.390625 41.078125 11.03125 \nQ 45.3125 15.671875 45.3125 23.6875 \nL 45.3125 54.6875 \nL 54.296875 54.6875 \nL 54.296875 0 \nL 45.3125 0 \nL 45.3125 8.40625 \nQ 42.046875 3.421875 37.71875 1 \nQ 33.40625 -1.421875 27.6875 -1.421875 \nQ 18.265625 -1.421875 13.375 4.4375 \nQ 8.5 10.296875 8.5 21.578125 \nz\nM 31.109375 56 \nz\n\" id=\"DejaVuSans-75\"/>\n     <path d=\"M 48.78125 52.59375 \nL 48.78125 44.1875 \nQ 44.96875 46.296875 41.140625 47.34375 \nQ 37.3125 48.390625 33.40625 48.390625 \nQ 24.65625 48.390625 19.8125 42.84375 \nQ 14.984375 37.3125 14.984375 27.296875 \nQ 14.984375 17.28125 19.8125 11.734375 \nQ 24.65625 6.203125 33.40625 6.203125 \nQ 37.3125 6.203125 41.140625 7.25 \nQ 44.96875 8.296875 48.78125 10.40625 \nL 48.78125 2.09375 \nQ 45.015625 0.34375 40.984375 -0.53125 \nQ 36.96875 -1.421875 32.421875 -1.421875 \nQ 20.0625 -1.421875 12.78125 6.34375 \nQ 5.515625 14.109375 5.515625 27.296875 \nQ 5.515625 40.671875 12.859375 48.328125 \nQ 20.21875 56 33.015625 56 \nQ 37.15625 56 41.109375 55.140625 \nQ 45.0625 54.296875 48.78125 52.59375 \nz\n\" id=\"DejaVuSans-63\"/>\n     <path d=\"M 18.3125 70.21875 \nL 18.3125 54.6875 \nL 36.8125 54.6875 \nL 36.8125 47.703125 \nL 18.3125 47.703125 \nL 18.3125 18.015625 \nQ 18.3125 11.328125 20.140625 9.421875 \nQ 21.96875 7.515625 27.59375 7.515625 \nL 36.8125 7.515625 \nL 36.8125 0 \nL 27.59375 0 \nQ 17.1875 0 13.234375 3.875 \nQ 9.28125 7.765625 9.28125 18.015625 \nL 9.28125 47.703125 \nL 2.6875 47.703125 \nL 2.6875 54.6875 \nL 9.28125 54.6875 \nL 9.28125 70.21875 \nz\n\" id=\"DejaVuSans-74\"/>\n     <path d=\"M 9.421875 54.6875 \nL 18.40625 54.6875 \nL 18.40625 0 \nL 9.421875 0 \nz\nM 9.421875 75.984375 \nL 18.40625 75.984375 \nL 18.40625 64.59375 \nL 9.421875 64.59375 \nz\n\" id=\"DejaVuSans-69\"/>\n    </defs>\n    <g transform=\"translate(149.378437 16.318125)scale(0.12 -0.12)\">\n     <use xlink:href=\"#DejaVuSans-52\"/>\n     <use x=\"69.419922\" xlink:href=\"#DejaVuSans-65\"/>\n     <use x=\"130.943359\" xlink:href=\"#DejaVuSans-73\"/>\n     <use x=\"183.042969\" xlink:href=\"#DejaVuSans-70\"/>\n     <use x=\"246.519531\" xlink:href=\"#DejaVuSans-6f\"/>\n     <use x=\"307.701172\" xlink:href=\"#DejaVuSans-6e\"/>\n     <use x=\"371.080078\" xlink:href=\"#DejaVuSans-73\"/>\n     <use x=\"423.179688\" xlink:href=\"#DejaVuSans-65\"/>\n     <use x=\"484.703125\" xlink:href=\"#DejaVuSans-20\"/>\n     <use x=\"516.490234\" xlink:href=\"#DejaVuSans-66\"/>\n     <use x=\"551.695312\" xlink:href=\"#DejaVuSans-75\"/>\n     <use x=\"615.074219\" xlink:href=\"#DejaVuSans-6e\"/>\n     <use x=\"678.453125\" xlink:href=\"#DejaVuSans-63\"/>\n     <use x=\"733.433594\" xlink:href=\"#DejaVuSans-74\"/>\n     <use x=\"772.642578\" xlink:href=\"#DejaVuSans-69\"/>\n     <use x=\"800.425781\" xlink:href=\"#DejaVuSans-6f\"/>\n     <use x=\"861.607422\" xlink:href=\"#DejaVuSans-6e\"/>\n     <use x=\"924.986328\" xlink:href=\"#DejaVuSans-73\"/>\n    </g>\n   </g>\n   <g id=\"legend_1\">\n    <g id=\"patch_7\">\n     <path d=\"M 302.578125 59.674375 \nL 368.403125 59.674375 \nQ 370.403125 59.674375 370.403125 57.674375 \nL 370.403125 29.318125 \nQ 370.403125 27.318125 368.403125 27.318125 \nL 302.578125 27.318125 \nQ 300.578125 27.318125 300.578125 29.318125 \nL 300.578125 57.674375 \nQ 300.578125 59.674375 302.578125 59.674375 \nz\n\" style=\"fill:#ffffff;opacity:0.8;stroke:#cccccc;stroke-linejoin:miter;\"/>\n    </g>\n    <g id=\"line2d_14\">\n     <path d=\"M 304.578125 35.416562 \nL 324.578125 35.416562 \n\" style=\"fill:none;stroke:#1f77b4;stroke-linecap:square;stroke-width:1.5;\"/>\n    </g>\n    <g id=\"line2d_15\"/>\n    <g id=\"text_14\">\n     <!-- R1(q2) -->\n     <defs>\n      <path d=\"M 31 75.875 \nQ 24.46875 64.65625 21.28125 53.65625 \nQ 18.109375 42.671875 18.109375 31.390625 \nQ 18.109375 20.125 21.3125 9.0625 \nQ 24.515625 -2 31 -13.1875 \nL 23.1875 -13.1875 \nQ 15.875 -1.703125 12.234375 9.375 \nQ 8.59375 20.453125 8.59375 31.390625 \nQ 8.59375 42.28125 12.203125 53.3125 \nQ 15.828125 64.359375 23.1875 75.875 \nz\n\" id=\"DejaVuSans-28\"/>\n      <path d=\"M 8.015625 75.875 \nL 15.828125 75.875 \nQ 23.140625 64.359375 26.78125 53.3125 \nQ 30.421875 42.28125 30.421875 31.390625 \nQ 30.421875 20.453125 26.78125 9.375 \nQ 23.140625 -1.703125 15.828125 -13.1875 \nL 8.015625 -13.1875 \nQ 14.5 -2 17.703125 9.0625 \nQ 20.90625 20.125 20.90625 31.390625 \nQ 20.90625 42.671875 17.703125 53.65625 \nQ 14.5 64.65625 8.015625 75.875 \nz\n\" id=\"DejaVuSans-29\"/>\n     </defs>\n     <g transform=\"translate(332.578125 38.916562)scale(0.1 -0.1)\">\n      <use xlink:href=\"#DejaVuSans-52\"/>\n      <use x=\"69.482422\" xlink:href=\"#DejaVuSans-31\"/>\n      <use x=\"133.105469\" xlink:href=\"#DejaVuSans-28\"/>\n      <use x=\"172.119141\" xlink:href=\"#DejaVuSans-71\"/>\n      <use x=\"235.595703\" xlink:href=\"#DejaVuSans-32\"/>\n      <use x=\"299.21875\" xlink:href=\"#DejaVuSans-29\"/>\n     </g>\n    </g>\n    <g id=\"line2d_16\">\n     <path d=\"M 304.578125 50.094687 \nL 324.578125 50.094687 \n\" style=\"fill:none;stroke:#ff7f0e;stroke-linecap:square;stroke-width:1.5;\"/>\n    </g>\n    <g id=\"line2d_17\"/>\n    <g id=\"text_15\">\n     <!-- R2(q1) -->\n     <g transform=\"translate(332.578125 53.594687)scale(0.1 -0.1)\">\n      <use xlink:href=\"#DejaVuSans-52\"/>\n      <use x=\"69.482422\" xlink:href=\"#DejaVuSans-32\"/>\n      <use x=\"133.105469\" xlink:href=\"#DejaVuSans-28\"/>\n      <use x=\"172.119141\" xlink:href=\"#DejaVuSans-71\"/>\n      <use x=\"235.595703\" xlink:href=\"#DejaVuSans-31\"/>\n      <use x=\"299.21875\" xlink:href=\"#DejaVuSans-29\"/>\n     </g>\n    </g>\n   </g>\n  </g>\n </g>\n <defs>\n  <clipPath id=\"p2e9a0f696d\">\n   <rect height=\"217.44\" width=\"334.8\" x=\"40.603125\" y=\"22.318125\"/>\n  </clipPath>\n </defs>\n</svg>\n",
      "image/png": "[encoded data removed]"
     },
     "metadata": {
      "needs_background": "light"
     }
    }
   ],
   "source": [
    "# Plots the responses of each firm, for different values of the other quantity.\n",
    "\n",
    "plt.plot(q1_BR[0:999], q1_exo[0:999], label='R1(q2)') # Blue line\n",
    "plt.plot(df['q2'][0:999],df['q1'][0:999], label='R2(q1)') # Orange line\n",
    "plt.plot([30],[30],'ro') # Red dot\n",
    "plt.xlabel('q1')\n",
    "plt.ylabel('q2')\n",
    "plt.title('Response functions')\n",
    "plt.legend()\n",
    "plt.show()"
   ]
  },
  {
   "cell_type": "markdown",
   "metadata": {},
   "source": [
    "Where it can be seen that the larger the quantity is for firm 1, the lower will the quantity of firm 2 will be. The red dot represents the optimal quantity found in the analytical solution. , "
   ]
  },
  {
   "cell_type": "code",
   "execution_count": 80,
   "metadata": {},
   "outputs": [],
   "source": [
    "for i in range(N): \n",
    "    if df['q2'][i] == df['q1'][i]: # Finds the value where the quantity of firm 1 and firm 2 intersect\n",
    "        profits1 = df['Profit_1'][i] # Define the profits of firm 1, given the intersect\n",
    "        profits2 = df['Profit_2'][i] \n",
    "        price = df['Price'][i] # Defines the price given the quantities in the intersect\n",
    "        optimal_quantity1 = df['q1'][i] # Defining the quantities given the intersect\n",
    "        optimal_quantity2 = df['q2'][i]        "
   ]
  },
  {
   "cell_type": "markdown",
   "metadata": {},
   "source": [
    "We can now check that the quantity and profits in the Numerical solution compared to the analytical solution. "
   ]
  },
  {
   "cell_type": "code",
   "execution_count": 76,
   "metadata": {},
   "outputs": [
    {
     "output_type": "stream",
     "name": "stdout",
     "text": "The market price is 40.0\nThe profit of firm 1 is 899.1\nThe quantitiy of firm 1 is 30.0\nThe profit of firm 2 is 900.5\nThe quantitiy of firm 2 is 30.0\n"
    }
   ],
   "source": [
    "print(f'The market price is {round(price,1)}')\n",
    "print(f'The profit of firm 1 is {round(profits1,1)}')\n",
    "print(f'The quantitiy of firm 1 is {round(optimal_quantity1,1)}')\n",
    "print(f'The profit of firm 2 is {round(profits2,1)}')\n",
    "print(f'The quantitiy of firm 2 is {round(optimal_quantity2,1)}')"
   ]
  },
  {
   "cell_type": "markdown",
   "metadata": {},
   "source": [
    "Thus it can be seen that the optimal quantity is the same as in the analytical, the price is also the same, but the profits have a few rounding errors, which causes the profit of firm 1 to be lower than the profit of firm 2. "
   ]
  },
  {
   "cell_type": "markdown",
   "metadata": {},
   "source": [
    "# Further analysis"
   ]
  },
  {
   "cell_type": "markdown",
   "metadata": {},
   "source": [
    "We now introduce a third firm into the Cournot model, and solve this by using the same approach as in the numerical solution."
   ]
  },
  {
   "cell_type": "code",
   "execution_count": 38,
   "metadata": {},
   "outputs": [],
   "source": [
    "q3 = sm.symbols('q_3') # Define the quantity of firm 3\n",
    "c3 = sm.symbols('c_3') # Define the cost of firm 3"
   ]
  },
  {
   "cell_type": "code",
   "execution_count": 39,
   "metadata": {},
   "outputs": [],
   "source": [
    "# Redefining profits, as the profits for firm 1 and 2 also depends on the quantity of firm 3. \n",
    "def profit1(q1):\n",
    "    return (a-(q1+q2+q3)) * q1 - c1 * q1 \n",
    "\n",
    "def profit2(q2):\n",
    "    return (a-(q1+q2+q3)) * q2 - c2 * q2\n",
    "\n",
    "def profit3(q1,q2,q3):\n",
    "    return (a-(q1+q2+q3)) * q3 - c3 * q3"
   ]
  },
  {
   "cell_type": "code",
   "execution_count": 40,
   "metadata": {},
   "outputs": [
    {
     "output_type": "execute_result",
     "data": {
      "text/plain": "-c_3*q_3 + q_3*(-q_1 - q_3 + 10.0)",
      "text/latex": "$\\displaystyle - c_{3} q_{3} + q_{3} \\left(- q_{1} - q_{3} + 10.0\\right)$"
     },
     "metadata": {},
     "execution_count": 40
    }
   ],
   "source": [
    "profit3(q1,q2,q3)"
   ]
  },
  {
   "cell_type": "code",
   "execution_count": 41,
   "metadata": {},
   "outputs": [],
   "source": [
    "N = 999 # Number of exogenous drawn quantities\n",
    "q2_vector = np.linspace(0,90,N) # Quantities actually getting drawn, thus we draw between quantities for q2 between 0 and 90, and draw 999 values between these two different values."
   ]
  },
  {
   "cell_type": "code",
   "execution_count": 42,
   "metadata": {},
   "outputs": [],
   "source": [
    "c3 = 10 # We define the cost for firm 3 to be similar to the costs of firm 1 and firm 2."
   ]
  },
  {
   "cell_type": "code",
   "execution_count": 43,
   "metadata": {},
   "outputs": [],
   "source": [
    "# Defining empty vectors\n",
    "q2_try= []\n",
    "q3_try= []\n",
    "q1_BR = []\n",
    "pi1_BR = [] \n",
    "\n",
    "for i in q2_vector:\n",
    "    q2 = i # Both q2 and q3 are set to be equal to i. \n",
    "    q3 = i\n",
    "    q1_guess = 0      \n",
    "    objective_function = lambda q1: -profit1(q1)\n",
    "    res = optimize.minimize(objective_function, q1_guess, method='BFGS') \n",
    "    q2_try.append(i) # Append q2\n",
    "    q3_try.append(i) # Append q3\n",
    "    q1_BR.append(res.x[0]) # Append the best response q1"
   ]
  },
  {
   "cell_type": "code",
   "execution_count": 81,
   "metadata": {},
   "outputs": [
    {
     "output_type": "execute_result",
     "data": {
      "text/plain": "    q2    q1   q3  Price  Profit_1  Profit_2  Profit_3\n0  0.0  45.0  0.0   55.0    2025.0       0.0       0.0\n1  0.1  45.0  0.1   54.9    2016.9       4.0       4.0\n2  0.2  44.9  0.2   54.7    2008.8       8.1       8.1\n3  0.3  44.9  0.3   54.6    2000.7      12.1      12.1\n4  0.4  44.8  0.4   54.5    1992.6      16.0      16.0\n5  0.5  44.8  0.5   54.3    1984.6      20.0      20.0\n6  0.5  44.7  0.5   54.2    1976.5      23.9      23.9\n7  0.6  44.7  0.6   54.1    1968.5      27.8      27.8\n8  0.7  44.6  0.7   53.9    1960.5      31.7      31.7\n9  0.8  44.6  0.8   53.8    1952.4      35.5      35.5",
      "text/html": "<div>\n<style scoped>\n    .dataframe tbody tr th:only-of-type {\n        vertical-align: middle;\n    }\n\n    .dataframe tbody tr th {\n        vertical-align: top;\n    }\n\n    .dataframe thead th {\n        text-align: right;\n    }\n</style>\n<table border=\"1\" class=\"dataframe\">\n  <thead>\n    <tr style=\"text-align: right;\">\n      <th></th>\n      <th>q2</th>\n      <th>q1</th>\n      <th>q3</th>\n      <th>Price</th>\n      <th>Profit_1</th>\n      <th>Profit_2</th>\n      <th>Profit_3</th>\n    </tr>\n  </thead>\n  <tbody>\n    <tr>\n      <td>0</td>\n      <td>0.0</td>\n      <td>45.0</td>\n      <td>0.0</td>\n      <td>55.0</td>\n      <td>2025.0</td>\n      <td>0.0</td>\n      <td>0.0</td>\n    </tr>\n    <tr>\n      <td>1</td>\n      <td>0.1</td>\n      <td>45.0</td>\n      <td>0.1</td>\n      <td>54.9</td>\n      <td>2016.9</td>\n      <td>4.0</td>\n      <td>4.0</td>\n    </tr>\n    <tr>\n      <td>2</td>\n      <td>0.2</td>\n      <td>44.9</td>\n      <td>0.2</td>\n      <td>54.7</td>\n      <td>2008.8</td>\n      <td>8.1</td>\n      <td>8.1</td>\n    </tr>\n    <tr>\n      <td>3</td>\n      <td>0.3</td>\n      <td>44.9</td>\n      <td>0.3</td>\n      <td>54.6</td>\n      <td>2000.7</td>\n      <td>12.1</td>\n      <td>12.1</td>\n    </tr>\n    <tr>\n      <td>4</td>\n      <td>0.4</td>\n      <td>44.8</td>\n      <td>0.4</td>\n      <td>54.5</td>\n      <td>1992.6</td>\n      <td>16.0</td>\n      <td>16.0</td>\n    </tr>\n    <tr>\n      <td>5</td>\n      <td>0.5</td>\n      <td>44.8</td>\n      <td>0.5</td>\n      <td>54.3</td>\n      <td>1984.6</td>\n      <td>20.0</td>\n      <td>20.0</td>\n    </tr>\n    <tr>\n      <td>6</td>\n      <td>0.5</td>\n      <td>44.7</td>\n      <td>0.5</td>\n      <td>54.2</td>\n      <td>1976.5</td>\n      <td>23.9</td>\n      <td>23.9</td>\n    </tr>\n    <tr>\n      <td>7</td>\n      <td>0.6</td>\n      <td>44.7</td>\n      <td>0.6</td>\n      <td>54.1</td>\n      <td>1968.5</td>\n      <td>27.8</td>\n      <td>27.8</td>\n    </tr>\n    <tr>\n      <td>8</td>\n      <td>0.7</td>\n      <td>44.6</td>\n      <td>0.7</td>\n      <td>53.9</td>\n      <td>1960.5</td>\n      <td>31.7</td>\n      <td>31.7</td>\n    </tr>\n    <tr>\n      <td>9</td>\n      <td>0.8</td>\n      <td>44.6</td>\n      <td>0.8</td>\n      <td>53.8</td>\n      <td>1952.4</td>\n      <td>35.5</td>\n      <td>35.5</td>\n    </tr>\n  </tbody>\n</table>\n</div>"
     },
     "metadata": {},
     "execution_count": 81
    }
   ],
   "source": [
    "df=pd.DataFrame(q2_try) \n",
    "df.columns=['q2'] \n",
    "df['q1'] = q1_BR \n",
    "df['q3'] = q3_try\n",
    "df['Price'] = a - df['q1'] - df['q2'] - df['q3']\n",
    "df['Profit_1'] = np.transpose(df['Price'] * df['q1']) - c1 * df['q1'] # Calculate profits of firm 1\n",
    "df['Profit_2'] = np.transpose(df['Price'] * df['q2']) - c2 * df['q2'] # Calculate profits of firm 2\n",
    "df['Profit_3'] = np.transpose(df['Price'] * df['q3']) - c3 * df['q3'] # Calculate profits of firm 3\n",
    "df = df.round(1)\n",
    "df.head(10)"
   ]
  },
  {
   "cell_type": "code",
   "execution_count": 35,
   "metadata": {},
   "outputs": [],
   "source": [
    "for i in range(N): # Finding equilibria quantities, profits and price\n",
    "    if df['q2'][i] == df['q1'][i] == df['q3'][i]:\n",
    "        profits1 = df['Profit_1'][i] \n",
    "        profits2 = df['Profit_2'][i] \n",
    "        profits3 = df['Profit_3'][i]  \n",
    "        price1 = df['Price'][i]          \n",
    "        optimal_quantity1 = df['q1'][i]\n",
    "        optimal_quantity2 = df['q2'][i]\n",
    "        optimal_quantity3 = df['q3'][i]"
   ]
  },
  {
   "cell_type": "markdown",
   "metadata": {},
   "source": [
    "We can now check the profits of the three firms, where it can be seen that there is a minor error in the model, showing that the profits of the firms are not perfect equal, we can check the profits of firm 3, by using the defined function."
   ]
  },
  {
   "cell_type": "code",
   "execution_count": 36,
   "metadata": {},
   "outputs": [
    {
     "output_type": "stream",
     "name": "stdout",
     "text": "The market price is 32.5\nThe profit of firm 1 is 504.2\nThe quantitiy of firm 1 is 22.5\nThe profit of firm 2 is 506.2\nThe quantitiy of firm 2 is 22.5\nThe profit of firm 3 is 506.2\nThe quantitiy of firm 3 is 22.5\n"
    }
   ],
   "source": [
    "print(f'The market price is {round(price1,1)}')\n",
    "print(f'The profit of firm 1 is {round(profits1,1)}')\n",
    "print(f'The quantitiy of firm 1 is {round(optimal_quantity1,1)}')\n",
    "print(f'The profit of firm 2 is {round(profits2,1)}')\n",
    "print(f'The quantitiy of firm 2 is {round(optimal_quantity2,1)}')\n",
    "print(f'The profit of firm 3 is {round(profits3,1)}')\n",
    "print(f'The quantitiy of firm 3 is {round(optimal_quantity3,1)}')"
   ]
  },
  {
   "cell_type": "markdown",
   "metadata": {},
   "source": [
    "Where it can be seen that the model shows the same profits for firm 2 and firm 3, while the profit for firm 1 is just a bit lower. We can check the profit of firms, using the profit of firm 3, and insereting that each firm will produce the quantity of 22.5"
   ]
  },
  {
   "cell_type": "code",
   "execution_count": 78,
   "metadata": {},
   "outputs": [
    {
     "output_type": "execute_result",
     "data": {
      "text/plain": "506.25"
     },
     "metadata": {},
     "execution_count": 78
    }
   ],
   "source": [
    "profit3(22.5,22.5,22.5)"
   ]
  },
  {
   "cell_type": "markdown",
   "metadata": {},
   "source": [
    "Thus it can be concluded that the profit of each firm should be 506.25 given that each firm produce a quantity of 22.5"
   ]
  },
  {
   "cell_type": "markdown",
   "metadata": {},
   "source": [
    "# Conclusion"
   ]
  },
  {
   "cell_type": "markdown",
   "metadata": {},
   "source": [
    "From the models it can be seen that by introducing a thrid firm into the Cournot model, the combined quantity increase and the price decreases. A third firm will decrease the profit of each firm from 900 to 506.25."
   ]
  }
 ],
 "metadata": {
  "kernelspec": {
   "display_name": "Python 3.7.4 64-bit ('base': conda)",
   "language": "python",
   "name": "python37464bitbaseconda6ad2d7c95dea4c58a3951f9f64f7fe35"
  },
  "language_info": {
   "codemirror_mode": {
    "name": "ipython",
    "version": 3
   },
   "file_extension": ".py",
   "mimetype": "text/x-python",
   "name": "python",
   "nbconvert_exporter": "python",
   "pygments_lexer": "ipython3",
   "version": "3.7.4-final"
  },
  "toc-autonumbering": true
 },
 "nbformat": 4,
 "nbformat_minor": 4
}